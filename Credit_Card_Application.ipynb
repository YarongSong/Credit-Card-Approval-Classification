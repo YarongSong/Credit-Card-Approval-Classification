{
 "cells": [
  {
   "cell_type": "markdown",
   "id": "0c4f6c74",
   "metadata": {},
   "source": [
    "# Credit Card Application Approval Prediction"
   ]
  },
  {
   "cell_type": "markdown",
   "id": "02d017f0",
   "metadata": {},
   "source": [
    "## 1. Set Environment & Libraries"
   ]
  },
  {
   "cell_type": "code",
   "execution_count": 1,
   "id": "3ef8dc2c",
   "metadata": {},
   "outputs": [],
   "source": [
    "# timer\n",
    "import time\n",
    "\n",
    "# Data manipulation libraries\n",
    "import pandas as pd\n",
    "import numpy as np\n",
    "\n",
    "# Visualization\n",
    "import matplotlib as mpl\n",
    "import matplotlib.pyplot as plt\n",
    "import seaborn as sns\n",
    "import pandas_profiling\n",
    "\n",
    "# Feature engineering\n",
    "import sklearn\n",
    "from sklearn import model_selection\n",
    "from sklearn.model_selection import train_test_split\n",
    "from sklearn import preprocessing\n",
    "from sklearn.preprocessing import OneHotEncoder\n",
    "from sklearn.preprocessing import StandardScaler\n",
    "from sklearn.preprocessing import MinMaxScaler\n",
    "from imblearn.over_sampling import SMOTE\n",
    "\n",
    "# Modelling\n",
    "from sklearn.model_selection import GridSearchCV\n",
    "from sklearn.ensemble import RandomForestClassifier, AdaBoostClassifier, GradientBoostingClassifier\n",
    "from sklearn.linear_model import LogisticRegression\n",
    "from sklearn.tree import DecisionTreeClassifier\n",
    "\n",
    "# Model evaluation\n",
    "from sklearn import metrics\n",
    "from sklearn.model_selection import cross_val_score\n",
    "from sklearn.metrics import mean_squared_error, mean_absolute_error, r2_score\n",
    "from sklearn.metrics import roc_curve\n",
    "from sklearn.metrics import roc_auc_score\n",
    "from sklearn.metrics import plot_confusion_matrix\n",
    "from sklearn.metrics import confusion_matrix\n",
    "from sklearn.metrics import classification_report\n",
    "from sklearn.metrics import accuracy_score, precision_score, recall_score, f1_score\n",
    "\n",
    "import warnings\n",
    "warnings.filterwarnings('ignore')"
   ]
  },
  {
   "cell_type": "markdown",
   "id": "d183df4c",
   "metadata": {},
   "source": [
    "## 2. Load Data"
   ]
  },
  {
   "cell_type": "code",
   "execution_count": 5,
   "id": "ce501fa9",
   "metadata": {},
   "outputs": [],
   "source": [
    "# train dataset\n",
    "train_data = pd.read_csv('/Users/songyarong/Workspace/5. Project/17.Credit Card Fraud Detection/Training.csv')\n",
    "\n",
    "# test dataset \n",
    "test_data = pd.read_csv('/Users/songyarong/Workspace/5. Project/17.Credit Card Fraud Detection/Test.csv')"
   ]
  },
  {
   "cell_type": "code",
   "execution_count": 6,
   "id": "53bb900a",
   "metadata": {},
   "outputs": [
    {
     "data": {
      "text/html": [
       "<div>\n",
       "<style scoped>\n",
       "    .dataframe tbody tr th:only-of-type {\n",
       "        vertical-align: middle;\n",
       "    }\n",
       "\n",
       "    .dataframe tbody tr th {\n",
       "        vertical-align: top;\n",
       "    }\n",
       "\n",
       "    .dataframe thead th {\n",
       "        text-align: right;\n",
       "    }\n",
       "</style>\n",
       "<table border=\"1\" class=\"dataframe\">\n",
       "  <thead>\n",
       "    <tr style=\"text-align: right;\">\n",
       "      <th></th>\n",
       "      <th>tot_balance</th>\n",
       "      <th>avg_bal_cards</th>\n",
       "      <th>credit_age</th>\n",
       "      <th>credit_age_good_account</th>\n",
       "      <th>credit_card_age</th>\n",
       "      <th>num_acc_30d_past_due_12_months</th>\n",
       "      <th>num_acc_30d_past_due_6_months</th>\n",
       "      <th>num_mortgage_currently_past_due</th>\n",
       "      <th>tot_amount_currently_past_due</th>\n",
       "      <th>num_inq_12_month</th>\n",
       "      <th>...</th>\n",
       "      <th>num_card_12_month</th>\n",
       "      <th>num_auto_ 36_month</th>\n",
       "      <th>uti_open_card</th>\n",
       "      <th>pct_over_50_uti</th>\n",
       "      <th>uti_max_credit_line</th>\n",
       "      <th>pct_card_over_50_uti</th>\n",
       "      <th>ind_XYZ</th>\n",
       "      <th>rep_income</th>\n",
       "      <th>rep_education</th>\n",
       "      <th>Def_ind</th>\n",
       "    </tr>\n",
       "  </thead>\n",
       "  <tbody>\n",
       "    <tr>\n",
       "      <th>0</th>\n",
       "      <td>102956.1101</td>\n",
       "      <td>14819.05740</td>\n",
       "      <td>238</td>\n",
       "      <td>104</td>\n",
       "      <td>264</td>\n",
       "      <td>0</td>\n",
       "      <td>0</td>\n",
       "      <td>0</td>\n",
       "      <td>0.0</td>\n",
       "      <td>0</td>\n",
       "      <td>...</td>\n",
       "      <td>1</td>\n",
       "      <td>0</td>\n",
       "      <td>0.366737</td>\n",
       "      <td>0.342183</td>\n",
       "      <td>0.513934</td>\n",
       "      <td>0.550866</td>\n",
       "      <td>0</td>\n",
       "      <td>118266.32130</td>\n",
       "      <td>college</td>\n",
       "      <td>0</td>\n",
       "    </tr>\n",
       "    <tr>\n",
       "      <th>1</th>\n",
       "      <td>132758.7258</td>\n",
       "      <td>18951.93455</td>\n",
       "      <td>384</td>\n",
       "      <td>197</td>\n",
       "      <td>371</td>\n",
       "      <td>0</td>\n",
       "      <td>0</td>\n",
       "      <td>0</td>\n",
       "      <td>0.0</td>\n",
       "      <td>0</td>\n",
       "      <td>...</td>\n",
       "      <td>0</td>\n",
       "      <td>0</td>\n",
       "      <td>0.490809</td>\n",
       "      <td>0.540671</td>\n",
       "      <td>0.418016</td>\n",
       "      <td>NaN</td>\n",
       "      <td>0</td>\n",
       "      <td>89365.05765</td>\n",
       "      <td>college</td>\n",
       "      <td>0</td>\n",
       "    </tr>\n",
       "    <tr>\n",
       "      <th>2</th>\n",
       "      <td>124658.9174</td>\n",
       "      <td>15347.92969</td>\n",
       "      <td>277</td>\n",
       "      <td>110</td>\n",
       "      <td>288</td>\n",
       "      <td>0</td>\n",
       "      <td>0</td>\n",
       "      <td>0</td>\n",
       "      <td>0.0</td>\n",
       "      <td>0</td>\n",
       "      <td>...</td>\n",
       "      <td>0</td>\n",
       "      <td>0</td>\n",
       "      <td>0.359074</td>\n",
       "      <td>0.338560</td>\n",
       "      <td>0.341627</td>\n",
       "      <td>0.451417</td>\n",
       "      <td>0</td>\n",
       "      <td>201365.12130</td>\n",
       "      <td>college</td>\n",
       "      <td>0</td>\n",
       "    </tr>\n",
       "    <tr>\n",
       "      <th>3</th>\n",
       "      <td>133968.5369</td>\n",
       "      <td>14050.71334</td>\n",
       "      <td>375</td>\n",
       "      <td>224</td>\n",
       "      <td>343</td>\n",
       "      <td>0</td>\n",
       "      <td>0</td>\n",
       "      <td>0</td>\n",
       "      <td>0.0</td>\n",
       "      <td>2</td>\n",
       "      <td>...</td>\n",
       "      <td>1</td>\n",
       "      <td>0</td>\n",
       "      <td>0.700379</td>\n",
       "      <td>0.683589</td>\n",
       "      <td>0.542940</td>\n",
       "      <td>0.607843</td>\n",
       "      <td>0</td>\n",
       "      <td>191794.48550</td>\n",
       "      <td>college</td>\n",
       "      <td>0</td>\n",
       "    </tr>\n",
       "    <tr>\n",
       "      <th>4</th>\n",
       "      <td>143601.8017</td>\n",
       "      <td>14858.51527</td>\n",
       "      <td>374</td>\n",
       "      <td>155</td>\n",
       "      <td>278</td>\n",
       "      <td>0</td>\n",
       "      <td>0</td>\n",
       "      <td>0</td>\n",
       "      <td>0.0</td>\n",
       "      <td>0</td>\n",
       "      <td>...</td>\n",
       "      <td>0</td>\n",
       "      <td>0</td>\n",
       "      <td>0.647351</td>\n",
       "      <td>0.510812</td>\n",
       "      <td>0.632934</td>\n",
       "      <td>0.573680</td>\n",
       "      <td>0</td>\n",
       "      <td>161465.36790</td>\n",
       "      <td>graduate</td>\n",
       "      <td>0</td>\n",
       "    </tr>\n",
       "  </tbody>\n",
       "</table>\n",
       "<p>5 rows × 21 columns</p>\n",
       "</div>"
      ],
      "text/plain": [
       "   tot_balance  avg_bal_cards  credit_age  credit_age_good_account  \\\n",
       "0  102956.1101    14819.05740         238                      104   \n",
       "1  132758.7258    18951.93455         384                      197   \n",
       "2  124658.9174    15347.92969         277                      110   \n",
       "3  133968.5369    14050.71334         375                      224   \n",
       "4  143601.8017    14858.51527         374                      155   \n",
       "\n",
       "   credit_card_age  num_acc_30d_past_due_12_months  \\\n",
       "0              264                               0   \n",
       "1              371                               0   \n",
       "2              288                               0   \n",
       "3              343                               0   \n",
       "4              278                               0   \n",
       "\n",
       "   num_acc_30d_past_due_6_months  num_mortgage_currently_past_due  \\\n",
       "0                              0                                0   \n",
       "1                              0                                0   \n",
       "2                              0                                0   \n",
       "3                              0                                0   \n",
       "4                              0                                0   \n",
       "\n",
       "   tot_amount_currently_past_due  num_inq_12_month  ...  num_card_12_month  \\\n",
       "0                            0.0                 0  ...                  1   \n",
       "1                            0.0                 0  ...                  0   \n",
       "2                            0.0                 0  ...                  0   \n",
       "3                            0.0                 2  ...                  1   \n",
       "4                            0.0                 0  ...                  0   \n",
       "\n",
       "   num_auto_ 36_month  uti_open_card  pct_over_50_uti  uti_max_credit_line  \\\n",
       "0                   0       0.366737         0.342183             0.513934   \n",
       "1                   0       0.490809         0.540671             0.418016   \n",
       "2                   0       0.359074         0.338560             0.341627   \n",
       "3                   0       0.700379         0.683589             0.542940   \n",
       "4                   0       0.647351         0.510812             0.632934   \n",
       "\n",
       "   pct_card_over_50_uti  ind_XYZ    rep_income  rep_education Def_ind  \n",
       "0              0.550866        0  118266.32130        college       0  \n",
       "1                   NaN        0   89365.05765        college       0  \n",
       "2              0.451417        0  201365.12130        college       0  \n",
       "3              0.607843        0  191794.48550        college       0  \n",
       "4              0.573680        0  161465.36790       graduate       0  \n",
       "\n",
       "[5 rows x 21 columns]"
      ]
     },
     "execution_count": 6,
     "metadata": {},
     "output_type": "execute_result"
    }
   ],
   "source": [
    "# head of the train_data\n",
    "train_data.head()"
   ]
  },
  {
   "cell_type": "code",
   "execution_count": 7,
   "id": "5791e003",
   "metadata": {},
   "outputs": [
    {
     "data": {
      "text/html": [
       "<div>\n",
       "<style scoped>\n",
       "    .dataframe tbody tr th:only-of-type {\n",
       "        vertical-align: middle;\n",
       "    }\n",
       "\n",
       "    .dataframe tbody tr th {\n",
       "        vertical-align: top;\n",
       "    }\n",
       "\n",
       "    .dataframe thead th {\n",
       "        text-align: right;\n",
       "    }\n",
       "</style>\n",
       "<table border=\"1\" class=\"dataframe\">\n",
       "  <thead>\n",
       "    <tr style=\"text-align: right;\">\n",
       "      <th></th>\n",
       "      <th>tot_balance</th>\n",
       "      <th>avg_bal_cards</th>\n",
       "      <th>credit_age</th>\n",
       "      <th>credit_age_good_account</th>\n",
       "      <th>credit_card_age</th>\n",
       "      <th>num_acc_30d_past_due_12_months</th>\n",
       "      <th>num_acc_30d_past_due_6_months</th>\n",
       "      <th>num_mortgage_currently_past_due</th>\n",
       "      <th>tot_amount_currently_past_due</th>\n",
       "      <th>num_inq_12_month</th>\n",
       "      <th>...</th>\n",
       "      <th>num_card_12_month</th>\n",
       "      <th>num_auto_ 36_month</th>\n",
       "      <th>uti_open_card</th>\n",
       "      <th>pct_over_50_uti</th>\n",
       "      <th>uti_max_credit_line</th>\n",
       "      <th>pct_card_over_50_uti</th>\n",
       "      <th>ind_XYZ</th>\n",
       "      <th>rep_income</th>\n",
       "      <th>rep_education</th>\n",
       "      <th>Def_ind</th>\n",
       "    </tr>\n",
       "  </thead>\n",
       "  <tbody>\n",
       "    <tr>\n",
       "      <th>0</th>\n",
       "      <td>75061.45088</td>\n",
       "      <td>11051.42462</td>\n",
       "      <td>191</td>\n",
       "      <td>103</td>\n",
       "      <td>220</td>\n",
       "      <td>0</td>\n",
       "      <td>0</td>\n",
       "      <td>0</td>\n",
       "      <td>0.00000</td>\n",
       "      <td>0</td>\n",
       "      <td>...</td>\n",
       "      <td>0</td>\n",
       "      <td>0</td>\n",
       "      <td>0.417116</td>\n",
       "      <td>0.490809</td>\n",
       "      <td>0.400379</td>\n",
       "      <td>0.429427</td>\n",
       "      <td>1</td>\n",
       "      <td>200321.9635</td>\n",
       "      <td>high_school</td>\n",
       "      <td>0</td>\n",
       "    </tr>\n",
       "    <tr>\n",
       "      <th>1</th>\n",
       "      <td>89792.74848</td>\n",
       "      <td>13839.37518</td>\n",
       "      <td>140</td>\n",
       "      <td>145</td>\n",
       "      <td>152</td>\n",
       "      <td>1</td>\n",
       "      <td>0</td>\n",
       "      <td>0</td>\n",
       "      <td>0.00000</td>\n",
       "      <td>0</td>\n",
       "      <td>...</td>\n",
       "      <td>0</td>\n",
       "      <td>1</td>\n",
       "      <td>0.472116</td>\n",
       "      <td>0.505581</td>\n",
       "      <td>0.655517</td>\n",
       "      <td>0.501279</td>\n",
       "      <td>0</td>\n",
       "      <td>168452.9762</td>\n",
       "      <td>high_school</td>\n",
       "      <td>0</td>\n",
       "    </tr>\n",
       "    <tr>\n",
       "      <th>2</th>\n",
       "      <td>95928.23392</td>\n",
       "      <td>10437.19476</td>\n",
       "      <td>343</td>\n",
       "      <td>220</td>\n",
       "      <td>388</td>\n",
       "      <td>2</td>\n",
       "      <td>0</td>\n",
       "      <td>0</td>\n",
       "      <td>19530.99745</td>\n",
       "      <td>0</td>\n",
       "      <td>...</td>\n",
       "      <td>0</td>\n",
       "      <td>1</td>\n",
       "      <td>0.394099</td>\n",
       "      <td>0.551539</td>\n",
       "      <td>0.309663</td>\n",
       "      <td>0.482915</td>\n",
       "      <td>1</td>\n",
       "      <td>190633.9622</td>\n",
       "      <td>other</td>\n",
       "      <td>0</td>\n",
       "    </tr>\n",
       "    <tr>\n",
       "      <th>3</th>\n",
       "      <td>124957.43040</td>\n",
       "      <td>17413.10572</td>\n",
       "      <td>232</td>\n",
       "      <td>97</td>\n",
       "      <td>235</td>\n",
       "      <td>0</td>\n",
       "      <td>0</td>\n",
       "      <td>0</td>\n",
       "      <td>0.00000</td>\n",
       "      <td>0</td>\n",
       "      <td>...</td>\n",
       "      <td>2</td>\n",
       "      <td>1</td>\n",
       "      <td>0.492846</td>\n",
       "      <td>0.540109</td>\n",
       "      <td>0.590457</td>\n",
       "      <td>0.466224</td>\n",
       "      <td>1</td>\n",
       "      <td>106712.5622</td>\n",
       "      <td>high_school</td>\n",
       "      <td>0</td>\n",
       "    </tr>\n",
       "    <tr>\n",
       "      <th>4</th>\n",
       "      <td>75058.13462</td>\n",
       "      <td>12326.23680</td>\n",
       "      <td>236</td>\n",
       "      <td>165</td>\n",
       "      <td>280</td>\n",
       "      <td>0</td>\n",
       "      <td>0</td>\n",
       "      <td>0</td>\n",
       "      <td>0.00000</td>\n",
       "      <td>0</td>\n",
       "      <td>...</td>\n",
       "      <td>1</td>\n",
       "      <td>1</td>\n",
       "      <td>0.381452</td>\n",
       "      <td>0.344772</td>\n",
       "      <td>0.526555</td>\n",
       "      <td>0.345455</td>\n",
       "      <td>0</td>\n",
       "      <td>173172.1864</td>\n",
       "      <td>college</td>\n",
       "      <td>0</td>\n",
       "    </tr>\n",
       "  </tbody>\n",
       "</table>\n",
       "<p>5 rows × 21 columns</p>\n",
       "</div>"
      ],
      "text/plain": [
       "    tot_balance  avg_bal_cards  credit_age  credit_age_good_account  \\\n",
       "0   75061.45088    11051.42462         191                      103   \n",
       "1   89792.74848    13839.37518         140                      145   \n",
       "2   95928.23392    10437.19476         343                      220   \n",
       "3  124957.43040    17413.10572         232                       97   \n",
       "4   75058.13462    12326.23680         236                      165   \n",
       "\n",
       "   credit_card_age  num_acc_30d_past_due_12_months  \\\n",
       "0              220                               0   \n",
       "1              152                               1   \n",
       "2              388                               2   \n",
       "3              235                               0   \n",
       "4              280                               0   \n",
       "\n",
       "   num_acc_30d_past_due_6_months  num_mortgage_currently_past_due  \\\n",
       "0                              0                                0   \n",
       "1                              0                                0   \n",
       "2                              0                                0   \n",
       "3                              0                                0   \n",
       "4                              0                                0   \n",
       "\n",
       "   tot_amount_currently_past_due  num_inq_12_month  ...  num_card_12_month  \\\n",
       "0                        0.00000                 0  ...                  0   \n",
       "1                        0.00000                 0  ...                  0   \n",
       "2                    19530.99745                 0  ...                  0   \n",
       "3                        0.00000                 0  ...                  2   \n",
       "4                        0.00000                 0  ...                  1   \n",
       "\n",
       "   num_auto_ 36_month  uti_open_card  pct_over_50_uti  uti_max_credit_line  \\\n",
       "0                   0       0.417116         0.490809             0.400379   \n",
       "1                   1       0.472116         0.505581             0.655517   \n",
       "2                   1       0.394099         0.551539             0.309663   \n",
       "3                   1       0.492846         0.540109             0.590457   \n",
       "4                   1       0.381452         0.344772             0.526555   \n",
       "\n",
       "   pct_card_over_50_uti  ind_XYZ   rep_income  rep_education Def_ind  \n",
       "0              0.429427        1  200321.9635    high_school       0  \n",
       "1              0.501279        0  168452.9762    high_school       0  \n",
       "2              0.482915        1  190633.9622          other       0  \n",
       "3              0.466224        1  106712.5622    high_school       0  \n",
       "4              0.345455        0  173172.1864        college       0  \n",
       "\n",
       "[5 rows x 21 columns]"
      ]
     },
     "execution_count": 7,
     "metadata": {},
     "output_type": "execute_result"
    }
   ],
   "source": [
    "# head of the test data\n",
    "test_data.head()"
   ]
  },
  {
   "cell_type": "markdown",
   "id": "6a14ea44",
   "metadata": {},
   "source": [
    "## 3. Data Exploratory Analysis"
   ]
  },
  {
   "cell_type": "markdown",
   "id": "c8722c63",
   "metadata": {},
   "source": [
    "### 3.1 Imbalanced Label Column"
   ]
  },
  {
   "cell_type": "code",
   "execution_count": 9,
   "id": "9cd799e4",
   "metadata": {},
   "outputs": [
    {
     "data": {
      "text/plain": [
       "0    18000\n",
       "1     2000\n",
       "Name: Def_ind, dtype: int64"
      ]
     },
     "execution_count": 9,
     "metadata": {},
     "output_type": "execute_result"
    }
   ],
   "source": [
    "# Distribution of the lable column/response variable 'Def_ind' in train_data\n",
    "train_data['Def_ind'].value_counts()"
   ]
  },
  {
   "cell_type": "code",
   "execution_count": 10,
   "id": "7711e1da",
   "metadata": {},
   "outputs": [
    {
     "data": {
      "text/plain": [
       "0    4500\n",
       "1     500\n",
       "Name: Def_ind, dtype: int64"
      ]
     },
     "execution_count": 10,
     "metadata": {},
     "output_type": "execute_result"
    }
   ],
   "source": [
    "# Distribution of the lable column/response variable 'Def_ind' in test_data\n",
    "test_data['Def_ind'].value_counts()"
   ]
  },
  {
   "cell_type": "code",
   "execution_count": 2,
   "id": "79ad0eb8",
   "metadata": {},
   "outputs": [
    {
     "data": {
      "image/png": "[encoded data removed]",
      "text/plain": [
       "<Figure size 432x432 with 1 Axes>"
      ]
     },
     "metadata": {},
     "output_type": "display_data"
    }
   ],
   "source": [
    "# plot the pie chart of the label column in train data\n",
    "data = [18000, 2000]\n",
    "labels = ['not_defaulted', 'defaulted']\n",
    "f, axss = plt.subplots(1, 1, figsize = [6, 6])\n",
    "colors = sns.color_palette('plasma')[4:6]\n",
    "plt.pie(data, labels=labels, colors=colors, autopct='%.0f%%',textprops={'fontsize': 18})\n",
    "plt.title('Defaulted and Non-defaulted Ratio in Train Data', fontsize = 18)\n",
    "plt.show()"
   ]
  },
  {
   "cell_type": "code",
   "execution_count": 3,
   "id": "aa48068b",
   "metadata": {},
   "outputs": [
    {
     "data": {
      "image/png": "[encoded data removed]",
      "text/plain": [
       "<Figure size 432x432 with 1 Axes>"
      ]
     },
     "metadata": {},
     "output_type": "display_data"
    }
   ],
   "source": [
    "# plot the pie chart of the label column in test data\n",
    "data = [4500, 500]\n",
    "labels = ['not_defaulted', 'defaulted']\n",
    "f, axss = plt.subplots(1, 1, figsize = [6, 6])\n",
    "colors = sns.color_palette('plasma')[3:5]\n",
    "plt.pie(data, labels=labels, colors=colors, autopct='%.0f%%', textprops={'fontsize': 18})\n",
    "plt.title('Defaulted and Non-defaulted Ratio in Test Data', fontsize = 18)\n",
    "plt.show()"
   ]
  },
  {
   "cell_type": "markdown",
   "id": "3337b2c0",
   "metadata": {},
   "source": [
    "The ratio of the positive data versus negative data is 1:9 for both train and test data. Therefore the data is imbalaned."
   ]
  },
  {
   "cell_type": "markdown",
   "id": "1259a547",
   "metadata": {},
   "source": [
    "### 3.2 Understand the Raw Dataset"
   ]
  },
  {
   "cell_type": "markdown",
   "id": "1bca5781",
   "metadata": {},
   "source": [
    "#### 3.2.1 Shape of the Dataset"
   ]
  },
  {
   "cell_type": "code",
   "execution_count": 8,
   "id": "f5db041b",
   "metadata": {},
   "outputs": [
    {
     "name": "stdout",
     "output_type": "stream",
     "text": [
      "(20000, 21)\n",
      "(5000, 21)\n"
     ]
    }
   ],
   "source": [
    "print(train_data.shape)\n",
    "print(test_data.shape)"
   ]
  },
  {
   "cell_type": "markdown",
   "id": "60168dff",
   "metadata": {},
   "source": [
    "#### 3.2.2 Data info"
   ]
  },
  {
   "cell_type": "code",
   "execution_count": 9,
   "id": "d0df5a50",
   "metadata": {},
   "outputs": [
    {
     "name": "stdout",
     "output_type": "stream",
     "text": [
      "<class 'pandas.core.frame.DataFrame'>\n",
      "RangeIndex: 20000 entries, 0 to 19999\n",
      "Data columns (total 21 columns):\n",
      " #   Column                           Non-Null Count  Dtype  \n",
      "---  ------                           --------------  -----  \n",
      " 0   tot_balance                      20000 non-null  float64\n",
      " 1   avg_bal_cards                    20000 non-null  float64\n",
      " 2   credit_age                       20000 non-null  int64  \n",
      " 3   credit_age_good_account          20000 non-null  int64  \n",
      " 4   credit_card_age                  20000 non-null  int64  \n",
      " 5   num_acc_30d_past_due_12_months   20000 non-null  int64  \n",
      " 6   num_acc_30d_past_due_6_months    20000 non-null  int64  \n",
      " 7   num_mortgage_currently_past_due  20000 non-null  int64  \n",
      " 8   tot_amount_currently_past_due    20000 non-null  float64\n",
      " 9   num_inq_12_month                 20000 non-null  int64  \n",
      " 10  num_card_inq_24_month            20000 non-null  int64  \n",
      " 11  num_card_12_month                20000 non-null  int64  \n",
      " 12  num_auto_ 36_month               20000 non-null  int64  \n",
      " 13  uti_open_card                    20000 non-null  float64\n",
      " 14  pct_over_50_uti                  20000 non-null  float64\n",
      " 15  uti_max_credit_line              20000 non-null  float64\n",
      " 16  pct_card_over_50_uti             18042 non-null  float64\n",
      " 17  ind_XYZ                          20000 non-null  int64  \n",
      " 18  rep_income                       18441 non-null  float64\n",
      " 19  rep_education                    19999 non-null  object \n",
      " 20  Def_ind                          20000 non-null  int64  \n",
      "dtypes: float64(8), int64(12), object(1)\n",
      "memory usage: 3.2+ MB\n"
     ]
    }
   ],
   "source": [
    "train_data.info()"
   ]
  },
  {
   "cell_type": "code",
   "execution_count": 10,
   "id": "7be189fe",
   "metadata": {},
   "outputs": [
    {
     "name": "stdout",
     "output_type": "stream",
     "text": [
      "<class 'pandas.core.frame.DataFrame'>\n",
      "RangeIndex: 5000 entries, 0 to 4999\n",
      "Data columns (total 21 columns):\n",
      " #   Column                           Non-Null Count  Dtype  \n",
      "---  ------                           --------------  -----  \n",
      " 0   tot_balance                      5000 non-null   float64\n",
      " 1   avg_bal_cards                    5000 non-null   float64\n",
      " 2   credit_age                       5000 non-null   int64  \n",
      " 3   credit_age_good_account          5000 non-null   int64  \n",
      " 4   credit_card_age                  5000 non-null   int64  \n",
      " 5   num_acc_30d_past_due_12_months   5000 non-null   int64  \n",
      " 6   num_acc_30d_past_due_6_months    5000 non-null   int64  \n",
      " 7   num_mortgage_currently_past_due  5000 non-null   int64  \n",
      " 8   tot_amount_currently_past_due    5000 non-null   float64\n",
      " 9   num_inq_12_month                 5000 non-null   int64  \n",
      " 10  num_card_inq_24_month            5000 non-null   int64  \n",
      " 11  num_card_12_month                5000 non-null   int64  \n",
      " 12  num_auto_ 36_month               5000 non-null   int64  \n",
      " 13  uti_open_card                    5000 non-null   float64\n",
      " 14  pct_over_50_uti                  5000 non-null   float64\n",
      " 15  uti_max_credit_line              5000 non-null   float64\n",
      " 16  pct_card_over_50_uti             4511 non-null   float64\n",
      " 17  ind_XYZ                          5000 non-null   int64  \n",
      " 18  rep_income                       4590 non-null   float64\n",
      " 19  rep_education                    4996 non-null   object \n",
      " 20  Def_ind                          5000 non-null   int64  \n",
      "dtypes: float64(8), int64(12), object(1)\n",
      "memory usage: 820.4+ KB\n"
     ]
    }
   ],
   "source": [
    "test_data.info()"
   ]
  },
  {
   "cell_type": "markdown",
   "id": "9930822b",
   "metadata": {},
   "source": [
    "#### 3.2.3 Unique values"
   ]
  },
  {
   "cell_type": "code",
   "execution_count": 11,
   "id": "fa0ea513",
   "metadata": {
    "scrolled": false
   },
   "outputs": [
    {
     "data": {
      "text/plain": [
       "tot_balance                        20000\n",
       "avg_bal_cards                      19999\n",
       "credit_age                           470\n",
       "credit_age_good_account              262\n",
       "credit_card_age                      419\n",
       "num_acc_30d_past_due_12_months         6\n",
       "num_acc_30d_past_due_6_months          3\n",
       "num_mortgage_currently_past_due        2\n",
       "tot_amount_currently_past_due       1402\n",
       "num_inq_12_month                      10\n",
       "num_card_inq_24_month                 19\n",
       "num_card_12_month                      4\n",
       "num_auto_ 36_month                     3\n",
       "uti_open_card                      20000\n",
       "pct_over_50_uti                    20000\n",
       "uti_max_credit_line                20000\n",
       "pct_card_over_50_uti               18042\n",
       "ind_XYZ                                2\n",
       "rep_income                         18440\n",
       "rep_education                          4\n",
       "Def_ind                                2\n",
       "dtype: int64"
      ]
     },
     "execution_count": 11,
     "metadata": {},
     "output_type": "execute_result"
    }
   ],
   "source": [
    "train_data.nunique()"
   ]
  },
  {
   "cell_type": "code",
   "execution_count": 12,
   "id": "e87065d2",
   "metadata": {},
   "outputs": [
    {
     "data": {
      "text/plain": [
       "tot_balance                        5000\n",
       "avg_bal_cards                      5000\n",
       "credit_age                          423\n",
       "credit_age_good_account             245\n",
       "credit_card_age                     457\n",
       "num_acc_30d_past_due_12_months        6\n",
       "num_acc_30d_past_due_6_months         3\n",
       "num_mortgage_currently_past_due       2\n",
       "tot_amount_currently_past_due      1185\n",
       "num_inq_12_month                     11\n",
       "num_card_inq_24_month                18\n",
       "num_card_12_month                     4\n",
       "num_auto_ 36_month                    3\n",
       "uti_open_card                      5000\n",
       "pct_over_50_uti                    5000\n",
       "uti_max_credit_line                5000\n",
       "pct_card_over_50_uti               4511\n",
       "ind_XYZ                               2\n",
       "rep_income                         4590\n",
       "rep_education                         4\n",
       "Def_ind                               2\n",
       "dtype: int64"
      ]
     },
     "execution_count": 12,
     "metadata": {},
     "output_type": "execute_result"
    }
   ],
   "source": [
    "test_data.nunique()"
   ]
  },
  {
   "cell_type": "markdown",
   "id": "10913a03",
   "metadata": {},
   "source": [
    "#### 3.2.4 Missing Values\n",
    "- pct_card_over_50_uti has 1958 missing values in train, 489 missing in test\n",
    "- rep_income has 1559 missing values in train, 410 missing in test\n",
    "- rep_education has 1 missing value in train, 4 missing in test"
   ]
  },
  {
   "cell_type": "code",
   "execution_count": 13,
   "id": "9789367b",
   "metadata": {},
   "outputs": [
    {
     "data": {
      "text/plain": [
       "tot_balance                           0\n",
       "avg_bal_cards                         0\n",
       "credit_age                            0\n",
       "credit_age_good_account               0\n",
       "credit_card_age                       0\n",
       "num_acc_30d_past_due_12_months        0\n",
       "num_acc_30d_past_due_6_months         0\n",
       "num_mortgage_currently_past_due       0\n",
       "tot_amount_currently_past_due         0\n",
       "num_inq_12_month                      0\n",
       "num_card_inq_24_month                 0\n",
       "num_card_12_month                     0\n",
       "num_auto_ 36_month                    0\n",
       "uti_open_card                         0\n",
       "pct_over_50_uti                       0\n",
       "uti_max_credit_line                   0\n",
       "pct_card_over_50_uti               1958\n",
       "ind_XYZ                               0\n",
       "rep_income                         1559\n",
       "rep_education                         1\n",
       "Def_ind                               0\n",
       "dtype: int64"
      ]
     },
     "execution_count": 13,
     "metadata": {},
     "output_type": "execute_result"
    }
   ],
   "source": [
    "# train data missing value\n",
    "train_data.isnull().sum()           "
   ]
  },
  {
   "cell_type": "code",
   "execution_count": 14,
   "id": "a6f4a8dc",
   "metadata": {
    "scrolled": false
   },
   "outputs": [
    {
     "data": {
      "text/plain": [
       "tot_balance                          0\n",
       "avg_bal_cards                        0\n",
       "credit_age                           0\n",
       "credit_age_good_account              0\n",
       "credit_card_age                      0\n",
       "num_acc_30d_past_due_12_months       0\n",
       "num_acc_30d_past_due_6_months        0\n",
       "num_mortgage_currently_past_due      0\n",
       "tot_amount_currently_past_due        0\n",
       "num_inq_12_month                     0\n",
       "num_card_inq_24_month                0\n",
       "num_card_12_month                    0\n",
       "num_auto_ 36_month                   0\n",
       "uti_open_card                        0\n",
       "pct_over_50_uti                      0\n",
       "uti_max_credit_line                  0\n",
       "pct_card_over_50_uti               489\n",
       "ind_XYZ                              0\n",
       "rep_income                         410\n",
       "rep_education                        4\n",
       "Def_ind                              0\n",
       "dtype: int64"
      ]
     },
     "execution_count": 14,
     "metadata": {},
     "output_type": "execute_result"
    }
   ],
   "source": [
    "# test data missing value\n",
    "test_data.isnull().sum()"
   ]
  },
  {
   "cell_type": "markdown",
   "id": "38518ae6",
   "metadata": {},
   "source": [
    "#### 3.2.5 Duplicated data"
   ]
  },
  {
   "cell_type": "code",
   "execution_count": 15,
   "id": "043e00d1",
   "metadata": {},
   "outputs": [
    {
     "data": {
      "text/plain": [
       "0"
      ]
     },
     "execution_count": 15,
     "metadata": {},
     "output_type": "execute_result"
    }
   ],
   "source": [
    "train_data.duplicated().sum()"
   ]
  },
  {
   "cell_type": "code",
   "execution_count": 16,
   "id": "5511037c",
   "metadata": {},
   "outputs": [
    {
     "data": {
      "text/plain": [
       "0"
      ]
     },
     "execution_count": 16,
     "metadata": {},
     "output_type": "execute_result"
    }
   ],
   "source": [
    "test_data.duplicated().sum()"
   ]
  },
  {
   "cell_type": "markdown",
   "id": "8c64f2fa",
   "metadata": {},
   "source": [
    "### 3.3 Data profiling"
   ]
  },
  {
   "cell_type": "code",
   "execution_count": 18,
   "id": "fad70448",
   "metadata": {
    "scrolled": false
   },
   "outputs": [],
   "source": [
    "# pandas-profiling\n",
    "# pandas_profiling.ProfileReport(train_data, title=\"Pandas Profiling Report\", vars={\"num\": {\"low_categorical_threshold\": 0}})\n"
   ]
  },
  {
   "cell_type": "markdown",
   "id": "1430fc9e",
   "metadata": {},
   "source": [
    "Summary:\n",
    "- 5 groups of highly correlated numerical features\n",
    "- pct_card_over_50_uti has 1958 (9.8%) missing values\n",
    "- rep_income has 1559 (7.8%) missing values\n",
    "- 8 right-skewed numerical features\n",
    "- 1) num_acc_30d_past_due_12_months has 17614 (88.1%) zeros;\n",
    "- 2) num_acc_30d_past_due_6_months has 19429 (97.1%) zeros\n",
    "- 3) num_mortgage_currently_past_due has 19400 (97.0%) zeros\n",
    "- 4) tot_amount_currently_past_due has 18599 (93.0%) zeros\n",
    "- 5) num_inq_12_month has 14043 (70.2%) zeros\n",
    "- 6) num_card_inq_24_month has 13193 (66.0%) zeros\n",
    "- 7) num_card_12_month has 14923 (74.6%) zeros\n",
    "- 8) num_auto_ 36_month has 16766 (83.8%) zeros\n"
   ]
  },
  {
   "cell_type": "markdown",
   "id": "cf756da9",
   "metadata": {},
   "source": [
    "### 3.4 Categorical Features\n",
    "ind_XYZ, rep_education"
   ]
  },
  {
   "cell_type": "code",
   "execution_count": 255,
   "id": "7d9516a4",
   "metadata": {},
   "outputs": [],
   "source": [
    "# categorical features\n",
    "cat_col = ['ind_XYZ', 'rep_education']"
   ]
  },
  {
   "cell_type": "markdown",
   "id": "52f63d3a",
   "metadata": {},
   "source": [
    "#### 3.4.1 Education "
   ]
  },
  {
   "cell_type": "code",
   "execution_count": 256,
   "id": "7cdbb6f8",
   "metadata": {},
   "outputs": [],
   "source": [
    "# mean defaulted rate for different education levels\n",
    "education_defaulted_rate_train = train_data.groupby('rep_education')['Def_ind'].mean()\n",
    "education_defaulted_rate_test = test_data.groupby('rep_education')['Def_ind'].mean()"
   ]
  },
  {
   "cell_type": "code",
   "execution_count": 257,
   "id": "0fb962e1",
   "metadata": {},
   "outputs": [
    {
     "data": {
      "text/plain": [
       "rep_education\n",
       "high_school    0.115732\n",
       "college        0.096976\n",
       "graduate       0.081879\n",
       "other          0.077465\n",
       "Name: Def_ind, dtype: float64"
      ]
     },
     "execution_count": 257,
     "metadata": {},
     "output_type": "execute_result"
    }
   ],
   "source": [
    "education_defaulted_rate_train = education_defaulted_rate_train.sort_values(ascending=False, inplace=False)\n",
    "education_defaulted_rate_train"
   ]
  },
  {
   "cell_type": "code",
   "execution_count": 258,
   "id": "036371d8",
   "metadata": {},
   "outputs": [
    {
     "data": {
      "text/plain": [
       "rep_education\n",
       "other          0.107011\n",
       "high_school    0.102894\n",
       "college        0.100779\n",
       "graduate       0.043716\n",
       "Name: Def_ind, dtype: float64"
      ]
     },
     "execution_count": 258,
     "metadata": {},
     "output_type": "execute_result"
    }
   ],
   "source": [
    "education_defaulted_rate_test = education_defaulted_rate_test.sort_values(ascending=False, inplace=False)\n",
    "education_defaulted_rate_test"
   ]
  },
  {
   "cell_type": "code",
   "execution_count": 259,
   "id": "e8e4bf17",
   "metadata": {},
   "outputs": [
    {
     "data": {
      "image/png": "[encoded data removed]",
      "text/plain": [
       "<Figure size 1008x432 with 4 Axes>"
      ]
     },
     "metadata": {
      "needs_background": "light"
     },
     "output_type": "display_data"
    }
   ],
   "source": [
    "# plot the bar chart of the education and default countplot\n",
    "f, axss = plt.subplots(1, 2, figsize = [14, 6])\n",
    "axss_0 = axss[0].twinx() \n",
    "sns.countplot(palette='Oranges_r', x='rep_education', hue='Def_ind', data=train_data, ax=axss[0], order=['high_school','college', 'graduate', 'other'])\n",
    "axss_0.plot(education_defaulted_rate_train, linewidth=3, color='y', label='Defaulted rate')\n",
    "axss[0].set_title(\"Train Data\", fontsize=20)\n",
    "axss[0].set_xlabel(\"Education_level\", fontsize=18)\n",
    "axss[0].set_ylabel(\"Counts\", fontsize=18)\n",
    "axss_0.set_ylabel('Defaulted Rate', fontsize=18)\n",
    "axss[0].tick_params(axis='both', labelsize= 16)\n",
    "axss_0.tick_params(axis='both', labelsize= 16)\n",
    "axss[0].set(ylim=(0,14000))\n",
    "axss_0.set(ylim=(0,0.12))\n",
    "axss[0].legend(fontsize=16)\n",
    "axss_0.legend(fontsize=16, loc='upper left')\n",
    "\n",
    "\n",
    "axss_1 = axss[1].twinx() \n",
    "sns.countplot(palette='Oranges_r', x='rep_education', hue='Def_ind', data=test_data, ax=axss[1], order=['high_school','college', 'graduate', 'other'])\n",
    "axss_1.plot(education_defaulted_rate_test, linewidth=3, color='y', label='Defaulted rate')\n",
    "axss[1].set_title(\"Test Data\", fontsize=20)\n",
    "axss[1].set_xlabel(\"Education_level\", fontsize=18)\n",
    "axss[1].set_ylabel(\"Counts\", fontsize=18)\n",
    "axss_1.set_ylabel('Defaulted Rate', fontsize=18)\n",
    "axss[1].tick_params(axis='both', labelsize= 16)\n",
    "axss_1.tick_params(axis='both', labelsize= 16)\n",
    "axss[1].set(ylim=(0,14000))\n",
    "axss_1.set(ylim=(0,0.12))\n",
    "axss[1].legend(fontsize=16)\n",
    "axss_1.legend(fontsize=16, loc='upper left')\n",
    "\n",
    "\n",
    "f.tight_layout(pad=2)"
   ]
  },
  {
   "cell_type": "code",
   "execution_count": 260,
   "id": "4efe7bf8",
   "metadata": {},
   "outputs": [
    {
     "data": {
      "text/plain": [
       "college        12137\n",
       "high_school     5314\n",
       "graduate        2406\n",
       "other            142\n",
       "Name: rep_education, dtype: int64"
      ]
     },
     "execution_count": 260,
     "metadata": {},
     "output_type": "execute_result"
    }
   ],
   "source": [
    "train_data['rep_education'].value_counts()"
   ]
  },
  {
   "cell_type": "code",
   "execution_count": 261,
   "id": "7628efc3",
   "metadata": {},
   "outputs": [
    {
     "data": {
      "image/png": "[encoded data removed]",
      "text/plain": [
       "<Figure size 432x432 with 1 Axes>"
      ]
     },
     "metadata": {},
     "output_type": "display_data"
    }
   ],
   "source": [
    "# plot the pie chart of the education level\n",
    "data = [12137, 5314, 2406, 142]\n",
    "labels = ['college', 'high_school', 'graduate', 'other']\n",
    "f, axss = plt.subplots(1, 1, figsize = [6, 6])\n",
    "colors = sns.color_palette('plasma')[3:7]\n",
    "plt.pie(data, labels=labels, colors=colors, autopct='%.0f%%', textprops={'fontsize': 18})\n",
    "plt.title('Education Level in Train Data', fontsize = 18)\n",
    "plt.show()"
   ]
  },
  {
   "cell_type": "code",
   "execution_count": 262,
   "id": "8e62ca0b",
   "metadata": {},
   "outputs": [
    {
     "data": {
      "text/plain": [
       "high_school    2488\n",
       "college        2054\n",
       "other           271\n",
       "graduate        183\n",
       "Name: rep_education, dtype: int64"
      ]
     },
     "execution_count": 262,
     "metadata": {},
     "output_type": "execute_result"
    }
   ],
   "source": [
    "test_data['rep_education'].value_counts()"
   ]
  },
  {
   "cell_type": "code",
   "execution_count": 263,
   "id": "b9a65b4b",
   "metadata": {},
   "outputs": [
    {
     "data": {
      "image/png": "[encoded data removed]",
      "text/plain": [
       "<Figure size 432x432 with 1 Axes>"
      ]
     },
     "metadata": {},
     "output_type": "display_data"
    }
   ],
   "source": [
    "# plot the pie chart of the education level\n",
    "data = [2488, 2054, 275, 183]\n",
    "labels = ['college', 'high_school', 'graduate', 'other']\n",
    "f, axss = plt.subplots(1, 1, figsize = [6, 6])\n",
    "colors = sns.color_palette('plasma')[3:7]\n",
    "plt.pie(data, labels=labels, colors=colors, autopct='%.0f%%', textprops={'fontsize': 18})\n",
    "plt.title('Education Level in Test Data', fontsize = 18)\n",
    "plt.show()"
   ]
  },
  {
   "cell_type": "code",
   "execution_count": 264,
   "id": "624c404d",
   "metadata": {},
   "outputs": [
    {
     "data": {
      "text/plain": [
       "rep_education  Def_ind\n",
       "college        0          10960\n",
       "high_school    0           4699\n",
       "graduate       0           2209\n",
       "college        1           1177\n",
       "high_school    1            615\n",
       "graduate       1            197\n",
       "other          0            131\n",
       "               1             11\n",
       "dtype: int64"
      ]
     },
     "execution_count": 264,
     "metadata": {},
     "output_type": "execute_result"
    }
   ],
   "source": [
    "train_data[['rep_education', 'Def_ind']].value_counts()"
   ]
  },
  {
   "cell_type": "markdown",
   "id": "9fa4adb4",
   "metadata": {},
   "source": [
    "#### 3.4.2 Account "
   ]
  },
  {
   "cell_type": "code",
   "execution_count": 265,
   "id": "8978f822",
   "metadata": {},
   "outputs": [],
   "source": [
    "# mean defaulted rate for users having some accounts or not\n",
    "account_defaulted_rate_train = train_data.groupby('ind_XYZ')['Def_ind'].mean()\n",
    "account_defaulted_rate_test = test_data.groupby('ind_XYZ')['Def_ind'].mean()"
   ]
  },
  {
   "cell_type": "code",
   "execution_count": 266,
   "id": "f510b49d",
   "metadata": {},
   "outputs": [
    {
     "data": {
      "text/plain": [
       "ind_XYZ\n",
       "0    0.1074\n",
       "1    0.0778\n",
       "Name: Def_ind, dtype: float64"
      ]
     },
     "execution_count": 266,
     "metadata": {},
     "output_type": "execute_result"
    }
   ],
   "source": [
    "account_defaulted_rate_train"
   ]
  },
  {
   "cell_type": "code",
   "execution_count": 267,
   "id": "69e11b9c",
   "metadata": {},
   "outputs": [
    {
     "data": {
      "text/plain": [
       "ind_XYZ\n",
       "0    0.108\n",
       "1    0.076\n",
       "Name: Def_ind, dtype: float64"
      ]
     },
     "execution_count": 267,
     "metadata": {},
     "output_type": "execute_result"
    }
   ],
   "source": [
    "account_defaulted_rate_test"
   ]
  },
  {
   "cell_type": "code",
   "execution_count": 268,
   "id": "61e4d857",
   "metadata": {},
   "outputs": [
    {
     "data": {
      "image/png": "[encoded data removed]",
      "text/plain": [
       "<Figure size 864x360 with 4 Axes>"
      ]
     },
     "metadata": {
      "needs_background": "light"
     },
     "output_type": "display_data"
    }
   ],
   "source": [
    "# plot the bar chart of the account and default countplot\n",
    "f, axss = plt.subplots(1, 2, figsize = [12, 5])\n",
    "axss_0 = axss[0].twinx() \n",
    "sns.countplot(palette='Oranges_r', x='ind_XYZ', hue='Def_ind', data=train_data, ax=axss[0])\n",
    "axss_0.plot(account_defaulted_rate_train, linewidth=3, color='y', label='Defaulted rate')\n",
    "axss[0].set_title(\"Account-Default Counts In Train Data\", fontsize=20)\n",
    "axss[0].set_xlabel(\"With_Account_Or_Not\", fontsize=18)\n",
    "axss[0].set_ylabel(\"Counts\", fontsize=18)\n",
    "axss_0.set_ylabel('Defaulted Rate', fontsize=18)\n",
    "axss[0].tick_params(axis='both', labelsize= 12)\n",
    "axss_0.tick_params(axis='both', labelsize= 12)\n",
    "axss[0].set(ylim=(0,16000))\n",
    "axss_0.set(ylim=(0,0.12))\n",
    "legend = plt.legend()\n",
    "plt.legend(loc='upper left')\n",
    "\n",
    "axss_1 = axss[1].twinx() \n",
    "sns.countplot(palette='Oranges_r', x='ind_XYZ', hue='Def_ind', data=test_data, ax=axss[1])\n",
    "axss_1.plot(account_defaulted_rate_test, linewidth=3, color='y', label='Defaulted rate')\n",
    "axss[1].set_title(\"Account-Default Counts In Test Data\", fontsize=20)\n",
    "axss[1].set_xlabel(\"With_Account_Or_Not\", fontsize=18)\n",
    "axss[1].set_ylabel(\"Counts\", fontsize=18)\n",
    "axss_1.set_ylabel('Defaulted Rate', fontsize=18)\n",
    "axss[1].tick_params(axis='both', labelsize= 12)\n",
    "axss_1.tick_params(axis='both', labelsize= 12)\n",
    "axss[1].set(ylim=(0,17000))\n",
    "axss_1.set(ylim=(0,0.12))\n",
    "legend = plt.legend()\n",
    "frame = legend.get_frame()\n",
    "plt.legend(loc='upper left')\n",
    "\n",
    "f.tight_layout(pad=1.5)"
   ]
  },
  {
   "cell_type": "code",
   "execution_count": 269,
   "id": "970b80e0",
   "metadata": {},
   "outputs": [
    {
     "data": {
      "text/plain": [
       "0    15000\n",
       "1     5000\n",
       "Name: ind_XYZ, dtype: int64"
      ]
     },
     "execution_count": 269,
     "metadata": {},
     "output_type": "execute_result"
    }
   ],
   "source": [
    "train_data['ind_XYZ'].value_counts()"
   ]
  },
  {
   "cell_type": "code",
   "execution_count": 270,
   "id": "6316a5e9",
   "metadata": {},
   "outputs": [
    {
     "data": {
      "text/plain": [
       "ind_XYZ  Def_ind\n",
       "0        0          13389\n",
       "1        0           4611\n",
       "0        1           1611\n",
       "1        1            389\n",
       "dtype: int64"
      ]
     },
     "execution_count": 270,
     "metadata": {},
     "output_type": "execute_result"
    }
   ],
   "source": [
    "train_data[['ind_XYZ', 'Def_ind']].value_counts()"
   ]
  },
  {
   "cell_type": "markdown",
   "id": "73b9174d",
   "metadata": {},
   "source": [
    "### 3.5 Numerical Features\n",
    "- 18 numerical features\n",
    "- 7 discrete; 11 cotinuous"
   ]
  },
  {
   "cell_type": "code",
   "execution_count": 271,
   "id": "93c63b59",
   "metadata": {},
   "outputs": [
    {
     "data": {
      "text/plain": [
       "(20000, 18)"
      ]
     },
     "execution_count": 271,
     "metadata": {},
     "output_type": "execute_result"
    }
   ],
   "source": [
    "# statistical description of numerical features\n",
    "to_drop = ['ind_XYZ', 'rep_education', 'Def_ind']\n",
    "X_num = train_data.drop(to_drop, axis=1)\n",
    "X_num.shape"
   ]
  },
  {
   "cell_type": "markdown",
   "id": "7eba17a9",
   "metadata": {},
   "source": [
    "#### 3.5.1 Statistical description of numerical features"
   ]
  },
  {
   "cell_type": "code",
   "execution_count": 272,
   "id": "4e84f48e",
   "metadata": {
    "scrolled": true
   },
   "outputs": [
    {
     "data": {
      "text/html": [
       "<div>\n",
       "<style scoped>\n",
       "    .dataframe tbody tr th:only-of-type {\n",
       "        vertical-align: middle;\n",
       "    }\n",
       "\n",
       "    .dataframe tbody tr th {\n",
       "        vertical-align: top;\n",
       "    }\n",
       "\n",
       "    .dataframe thead th {\n",
       "        text-align: right;\n",
       "    }\n",
       "</style>\n",
       "<table border=\"1\" class=\"dataframe\">\n",
       "  <thead>\n",
       "    <tr style=\"text-align: right;\">\n",
       "      <th></th>\n",
       "      <th>tot_balance</th>\n",
       "      <th>avg_bal_cards</th>\n",
       "      <th>credit_age</th>\n",
       "      <th>credit_age_good_account</th>\n",
       "      <th>credit_card_age</th>\n",
       "      <th>num_acc_30d_past_due_12_months</th>\n",
       "      <th>num_acc_30d_past_due_6_months</th>\n",
       "      <th>num_mortgage_currently_past_due</th>\n",
       "      <th>tot_amount_currently_past_due</th>\n",
       "      <th>num_inq_12_month</th>\n",
       "      <th>num_card_inq_24_month</th>\n",
       "      <th>num_card_12_month</th>\n",
       "      <th>num_auto_ 36_month</th>\n",
       "      <th>uti_open_card</th>\n",
       "      <th>pct_over_50_uti</th>\n",
       "      <th>uti_max_credit_line</th>\n",
       "      <th>pct_card_over_50_uti</th>\n",
       "      <th>rep_income</th>\n",
       "    </tr>\n",
       "  </thead>\n",
       "  <tbody>\n",
       "    <tr>\n",
       "      <th>count</th>\n",
       "      <td>20000.000000</td>\n",
       "      <td>20000.000000</td>\n",
       "      <td>20000.000000</td>\n",
       "      <td>20000.000000</td>\n",
       "      <td>20000.00000</td>\n",
       "      <td>20000.000000</td>\n",
       "      <td>20000.000000</td>\n",
       "      <td>20000.000000</td>\n",
       "      <td>20000.000000</td>\n",
       "      <td>20000.000000</td>\n",
       "      <td>20000.000000</td>\n",
       "      <td>20000.000000</td>\n",
       "      <td>20000.000000</td>\n",
       "      <td>20000.000000</td>\n",
       "      <td>20000.000000</td>\n",
       "      <td>20000.000000</td>\n",
       "      <td>18042.000000</td>\n",
       "      <td>18441.000000</td>\n",
       "    </tr>\n",
       "    <tr>\n",
       "      <th>mean</th>\n",
       "      <td>107439.032714</td>\n",
       "      <td>12230.735330</td>\n",
       "      <td>280.710050</td>\n",
       "      <td>146.100300</td>\n",
       "      <td>285.12085</td>\n",
       "      <td>0.156550</td>\n",
       "      <td>0.029700</td>\n",
       "      <td>0.030000</td>\n",
       "      <td>352.496791</td>\n",
       "      <td>0.616050</td>\n",
       "      <td>1.053050</td>\n",
       "      <td>0.272950</td>\n",
       "      <td>0.164150</td>\n",
       "      <td>0.490867</td>\n",
       "      <td>0.484157</td>\n",
       "      <td>0.465007</td>\n",
       "      <td>0.550964</td>\n",
       "      <td>166373.900129</td>\n",
       "    </tr>\n",
       "    <tr>\n",
       "      <th>std</th>\n",
       "      <td>22365.573172</td>\n",
       "      <td>3060.432745</td>\n",
       "      <td>73.238059</td>\n",
       "      <td>38.603134</td>\n",
       "      <td>64.25718</td>\n",
       "      <td>0.469524</td>\n",
       "      <td>0.176407</td>\n",
       "      <td>0.170591</td>\n",
       "      <td>1784.459199</td>\n",
       "      <td>1.158533</td>\n",
       "      <td>2.035766</td>\n",
       "      <td>0.487094</td>\n",
       "      <td>0.376977</td>\n",
       "      <td>0.129604</td>\n",
       "      <td>0.122891</td>\n",
       "      <td>0.130913</td>\n",
       "      <td>0.128403</td>\n",
       "      <td>33444.974846</td>\n",
       "    </tr>\n",
       "    <tr>\n",
       "      <th>min</th>\n",
       "      <td>0.000000</td>\n",
       "      <td>0.000000</td>\n",
       "      <td>0.000000</td>\n",
       "      <td>0.000000</td>\n",
       "      <td>0.00000</td>\n",
       "      <td>0.000000</td>\n",
       "      <td>0.000000</td>\n",
       "      <td>0.000000</td>\n",
       "      <td>0.000000</td>\n",
       "      <td>0.000000</td>\n",
       "      <td>0.000000</td>\n",
       "      <td>0.000000</td>\n",
       "      <td>0.000000</td>\n",
       "      <td>0.000000</td>\n",
       "      <td>0.000000</td>\n",
       "      <td>0.000000</td>\n",
       "      <td>0.000000</td>\n",
       "      <td>20000.000000</td>\n",
       "    </tr>\n",
       "    <tr>\n",
       "      <th>25%</th>\n",
       "      <td>92212.563363</td>\n",
       "      <td>10151.128043</td>\n",
       "      <td>231.000000</td>\n",
       "      <td>120.000000</td>\n",
       "      <td>242.00000</td>\n",
       "      <td>0.000000</td>\n",
       "      <td>0.000000</td>\n",
       "      <td>0.000000</td>\n",
       "      <td>0.000000</td>\n",
       "      <td>0.000000</td>\n",
       "      <td>0.000000</td>\n",
       "      <td>0.000000</td>\n",
       "      <td>0.000000</td>\n",
       "      <td>0.403926</td>\n",
       "      <td>0.401141</td>\n",
       "      <td>0.377850</td>\n",
       "      <td>0.464195</td>\n",
       "      <td>143504.239600</td>\n",
       "    </tr>\n",
       "    <tr>\n",
       "      <th>50%</th>\n",
       "      <td>107711.034250</td>\n",
       "      <td>12238.862545</td>\n",
       "      <td>280.000000</td>\n",
       "      <td>146.000000</td>\n",
       "      <td>285.00000</td>\n",
       "      <td>0.000000</td>\n",
       "      <td>0.000000</td>\n",
       "      <td>0.000000</td>\n",
       "      <td>0.000000</td>\n",
       "      <td>0.000000</td>\n",
       "      <td>0.000000</td>\n",
       "      <td>0.000000</td>\n",
       "      <td>0.000000</td>\n",
       "      <td>0.490365</td>\n",
       "      <td>0.485525</td>\n",
       "      <td>0.464847</td>\n",
       "      <td>0.551765</td>\n",
       "      <td>166462.899700</td>\n",
       "    </tr>\n",
       "    <tr>\n",
       "      <th>75%</th>\n",
       "      <td>122751.428100</td>\n",
       "      <td>14286.417122</td>\n",
       "      <td>330.000000</td>\n",
       "      <td>172.000000</td>\n",
       "      <td>330.00000</td>\n",
       "      <td>0.000000</td>\n",
       "      <td>0.000000</td>\n",
       "      <td>0.000000</td>\n",
       "      <td>0.000000</td>\n",
       "      <td>1.000000</td>\n",
       "      <td>1.000000</td>\n",
       "      <td>1.000000</td>\n",
       "      <td>0.000000</td>\n",
       "      <td>0.578311</td>\n",
       "      <td>0.567996</td>\n",
       "      <td>0.553581</td>\n",
       "      <td>0.638316</td>\n",
       "      <td>188903.520800</td>\n",
       "    </tr>\n",
       "    <tr>\n",
       "      <th>max</th>\n",
       "      <td>200000.000000</td>\n",
       "      <td>25000.000000</td>\n",
       "      <td>560.000000</td>\n",
       "      <td>300.000000</td>\n",
       "      <td>550.00000</td>\n",
       "      <td>5.000000</td>\n",
       "      <td>2.000000</td>\n",
       "      <td>1.000000</td>\n",
       "      <td>35000.000000</td>\n",
       "      <td>10.000000</td>\n",
       "      <td>18.000000</td>\n",
       "      <td>3.000000</td>\n",
       "      <td>2.000000</td>\n",
       "      <td>1.000000</td>\n",
       "      <td>1.000000</td>\n",
       "      <td>1.000000</td>\n",
       "      <td>1.000000</td>\n",
       "      <td>300000.000000</td>\n",
       "    </tr>\n",
       "  </tbody>\n",
       "</table>\n",
       "</div>"
      ],
      "text/plain": [
       "         tot_balance  avg_bal_cards    credit_age  credit_age_good_account  \\\n",
       "count   20000.000000   20000.000000  20000.000000             20000.000000   \n",
       "mean   107439.032714   12230.735330    280.710050               146.100300   \n",
       "std     22365.573172    3060.432745     73.238059                38.603134   \n",
       "min         0.000000       0.000000      0.000000                 0.000000   \n",
       "25%     92212.563363   10151.128043    231.000000               120.000000   \n",
       "50%    107711.034250   12238.862545    280.000000               146.000000   \n",
       "75%    122751.428100   14286.417122    330.000000               172.000000   \n",
       "max    200000.000000   25000.000000    560.000000               300.000000   \n",
       "\n",
       "       credit_card_age  num_acc_30d_past_due_12_months  \\\n",
       "count      20000.00000                    20000.000000   \n",
       "mean         285.12085                        0.156550   \n",
       "std           64.25718                        0.469524   \n",
       "min            0.00000                        0.000000   \n",
       "25%          242.00000                        0.000000   \n",
       "50%          285.00000                        0.000000   \n",
       "75%          330.00000                        0.000000   \n",
       "max          550.00000                        5.000000   \n",
       "\n",
       "       num_acc_30d_past_due_6_months  num_mortgage_currently_past_due  \\\n",
       "count                   20000.000000                     20000.000000   \n",
       "mean                        0.029700                         0.030000   \n",
       "std                         0.176407                         0.170591   \n",
       "min                         0.000000                         0.000000   \n",
       "25%                         0.000000                         0.000000   \n",
       "50%                         0.000000                         0.000000   \n",
       "75%                         0.000000                         0.000000   \n",
       "max                         2.000000                         1.000000   \n",
       "\n",
       "       tot_amount_currently_past_due  num_inq_12_month  num_card_inq_24_month  \\\n",
       "count                   20000.000000      20000.000000           20000.000000   \n",
       "mean                      352.496791          0.616050               1.053050   \n",
       "std                      1784.459199          1.158533               2.035766   \n",
       "min                         0.000000          0.000000               0.000000   \n",
       "25%                         0.000000          0.000000               0.000000   \n",
       "50%                         0.000000          0.000000               0.000000   \n",
       "75%                         0.000000          1.000000               1.000000   \n",
       "max                     35000.000000         10.000000              18.000000   \n",
       "\n",
       "       num_card_12_month  num_auto_ 36_month  uti_open_card  pct_over_50_uti  \\\n",
       "count       20000.000000        20000.000000   20000.000000     20000.000000   \n",
       "mean            0.272950            0.164150       0.490867         0.484157   \n",
       "std             0.487094            0.376977       0.129604         0.122891   \n",
       "min             0.000000            0.000000       0.000000         0.000000   \n",
       "25%             0.000000            0.000000       0.403926         0.401141   \n",
       "50%             0.000000            0.000000       0.490365         0.485525   \n",
       "75%             1.000000            0.000000       0.578311         0.567996   \n",
       "max             3.000000            2.000000       1.000000         1.000000   \n",
       "\n",
       "       uti_max_credit_line  pct_card_over_50_uti     rep_income  \n",
       "count         20000.000000          18042.000000   18441.000000  \n",
       "mean              0.465007              0.550964  166373.900129  \n",
       "std               0.130913              0.128403   33444.974846  \n",
       "min               0.000000              0.000000   20000.000000  \n",
       "25%               0.377850              0.464195  143504.239600  \n",
       "50%               0.464847              0.551765  166462.899700  \n",
       "75%               0.553581              0.638316  188903.520800  \n",
       "max               1.000000              1.000000  300000.000000  "
      ]
     },
     "execution_count": 272,
     "metadata": {},
     "output_type": "execute_result"
    }
   ],
   "source": [
    "X_num.describe()"
   ]
  },
  {
   "cell_type": "markdown",
   "id": "38df7c39",
   "metadata": {},
   "source": [
    "#### 3.5.2 Distribution of the discrete numerical features"
   ]
  },
  {
   "cell_type": "code",
   "execution_count": 273,
   "id": "34157403",
   "metadata": {},
   "outputs": [
    {
     "data": {
      "image/png": "[encoded data removed]",
      "text/plain": [
       "<Figure size 1080x720 with 9 Axes>"
      ]
     },
     "metadata": {
      "needs_background": "light"
     },
     "output_type": "display_data"
    }
   ],
   "source": [
    "# countplot of 7 numerical features\n",
    "fig,axes=plt.subplots(3,3,figsize=[15, 10])\n",
    "sns.countplot(palette='Oranges_r', x='num_acc_30d_past_due_12_months', data=train_data, ax=axes[0][0])\n",
    "axes[0][0].set_xlabel(\"num_acc_30d_past_due_12_months\", fontsize=15)\n",
    "axes[0][0].set_ylabel(\"Counts\", fontsize=15)\n",
    "axes[0][0].tick_params(axis='both', labelsize= 12)\n",
    "\n",
    "sns.countplot(palette='Oranges_r', x='num_acc_30d_past_due_6_months', data=train_data, width=0.4, ax=axes[0][1])\n",
    "axes[0][1].set_xlabel(\"num_acc_30d_past_due_6_months\", fontsize=15)\n",
    "axes[0][1].set_ylabel(\"Counts\", fontsize=15)\n",
    "axes[0][1].tick_params(axis='both', labelsize= 12)\n",
    "\n",
    "sns.countplot(palette='Oranges_r', x='num_mortgage_currently_past_due', data=train_data, width=0.3, label = 'num_mortgage_currently_past_due', ax=axes[0][2])\n",
    "axes[0][2].set_xlabel(\"num_mortgage_currently_past_due\", fontsize=15)\n",
    "axes[0][2].set_ylabel(\"Counts\", fontsize=15)\n",
    "axes[0][2].tick_params(axis='both', labelsize= 12)\n",
    "\n",
    "sns.countplot(palette='Oranges_r', x='num_inq_12_month', data=train_data, ax=axes[1][0])\n",
    "axes[1][0].set_xlabel(\"num_inq_12_month\", fontsize=15)\n",
    "axes[1][0].set_ylabel(\"Counts\", fontsize=15)\n",
    "axes[1][0].tick_params(axis='both', labelsize= 12)\n",
    "\n",
    "sns.countplot(palette='Oranges_r', x='num_card_inq_24_month', data=train_data,  ax=axes[1][1])\n",
    "axes[1][1].set_xlabel(\"num_card_inq_24_month\", fontsize=15)\n",
    "axes[1][1].set_ylabel(\"Counts\", fontsize=15)\n",
    "axes[1][1].tick_params(axis='both', labelsize= 12)\n",
    "\n",
    "sns.countplot(palette='Oranges_r', x='num_card_12_month', data=train_data, width=0.6, label = 'num_card_12_month', ax=axes[1][2])\n",
    "axes[1][2].set_xlabel(\"num_card_12_month\", fontsize=15)\n",
    "axes[1][2].set_ylabel(\"Counts\", fontsize=15)\n",
    "axes[1][2].tick_params(axis='both', labelsize= 12)\n",
    "\n",
    "sns.countplot(palette='Oranges_r', x='num_auto_ 36_month', data=train_data, width=0.6, label = 'num_auto_ 36_month', ax=axes[2][0])\n",
    "axes[2][0].set_xlabel(\"num_auto_ 36_month\", fontsize=15)\n",
    "axes[2][0].set_ylabel(\"Counts\", fontsize=15)\n",
    "axes[2][0].tick_params(axis='both', labelsize= 12)\n",
    "\n",
    "fig.tight_layout(pad=1)"
   ]
  },
  {
   "cell_type": "markdown",
   "id": "d4a96960",
   "metadata": {},
   "source": [
    "#### 3.5.3 Defaulted rate for the discrete numerical features"
   ]
  },
  {
   "cell_type": "code",
   "execution_count": 274,
   "id": "bf5bc118",
   "metadata": {},
   "outputs": [],
   "source": [
    "# defaulted rate for 7 numerical features\n",
    "num_acc_30d_past_due_12_months_defaulted_rate = train_data.groupby('num_acc_30d_past_due_12_months')['Def_ind'].mean()\n",
    "num_acc_30d_past_due_6_months_defaulted_rate = train_data.groupby('num_acc_30d_past_due_6_months')['Def_ind'].mean()\n",
    "num_mortgage_currently_past_due_defaulted_rate = train_data.groupby('num_mortgage_currently_past_due')['Def_ind'].mean()\n",
    "num_inq_12_month_defaulted_rate = train_data.groupby('num_inq_12_month')['Def_ind'].mean()\n",
    "num_card_inq_24_month_defaulted_rate = train_data.groupby('num_card_inq_24_month')['Def_ind'].mean()\n",
    "num_card_12_month_defaulted_rate = train_data.groupby('num_card_12_month')['Def_ind'].mean()\n",
    "num_auto_36_month_defaulted_rate = train_data.groupby('num_auto_ 36_month')['Def_ind'].mean()  "
   ]
  },
  {
   "cell_type": "code",
   "execution_count": 275,
   "id": "37fcc105",
   "metadata": {
    "scrolled": false
   },
   "outputs": [
    {
     "data": {
      "image/png": "[encoded data removed]",
      "text/plain": [
       "<Figure size 1080x720 with 9 Axes>"
      ]
     },
     "metadata": {
      "needs_background": "light"
     },
     "output_type": "display_data"
    }
   ],
   "source": [
    "# line plot of the defaulted rates for each of the 7 numerical features\n",
    "fig,axes=plt.subplots(3,3,figsize=[15, 10])\n",
    "sns.lineplot(num_acc_30d_past_due_12_months_defaulted_rate,linewidth=4, color='Orange', ax=axes[0][0])\n",
    "axes[0][0].set_xlabel(\"num_acc_30d_past_due_12_months\", fontsize=15)\n",
    "axes[0][0].set_ylabel(\"Defaulted rates\", fontsize=15)\n",
    "axes[0][0].tick_params(axis='both', labelsize= 12)\n",
    "\n",
    "sns.lineplot(num_acc_30d_past_due_6_months_defaulted_rate,linewidth=4, color='Orange', ax=axes[0][1])\n",
    "axes[0][1].set_xlabel(\"num_acc_30d_past_due_6_months\", fontsize=15)\n",
    "axes[0][1].set_ylabel(\"Defaulted rates\", fontsize=15)\n",
    "axes[0][1].tick_params(axis='both', labelsize= 12)\n",
    "\n",
    "sns.lineplot(num_mortgage_currently_past_due_defaulted_rate,linewidth=4, color='Orange', ax=axes[0][2])\n",
    "axes[0][2].set_xlabel(\"num_mortgage_currently_past_due\", fontsize=15)\n",
    "axes[0][2].set_ylabel(\"Defaulted rates\", fontsize=15)\n",
    "axes[0][2].tick_params(axis='both', labelsize= 12)\n",
    "\n",
    "sns.lineplot(num_inq_12_month_defaulted_rate,linewidth=4, color='Orange', ax=axes[1][0])\n",
    "axes[1][0].set_xlabel(\"num_inq_12_month\", fontsize=15)\n",
    "axes[1][0].set_ylabel(\"Defaulted rates\", fontsize=15)\n",
    "axes[1][0].tick_params(axis='both', labelsize= 12)\n",
    "\n",
    "sns.lineplot(num_card_inq_24_month_defaulted_rate,linewidth=4, color='Orange', ax=axes[1][1])\n",
    "axes[1][1].set_xlabel(\"num_card_inq_24_month\", fontsize=15)\n",
    "axes[1][1].set_ylabel(\"Defaulted rates\", fontsize=15)\n",
    "axes[1][1].tick_params(axis='both', labelsize= 12)\n",
    "\n",
    "sns.lineplot(num_card_12_month_defaulted_rate,linewidth=4, color='Orange', ax=axes[1][2])\n",
    "axes[1][2].set_xlabel(\"num_card_12_month\", fontsize=15)\n",
    "axes[1][2].set_ylabel(\"Defaulted rates\", fontsize=15)\n",
    "axes[1][2].tick_params(axis='both', labelsize= 12)\n",
    "\n",
    "sns.lineplot(num_auto_36_month_defaulted_rate,linewidth=4, color='Orange', label = 'num_auto_36_month', ax=axes[2][0])\n",
    "axes[2][0].set_xlabel(\"num_auto_ 36_month\", fontsize=15)\n",
    "axes[2][0].set_ylabel(\"Defaulted rates\", fontsize=15)\n",
    "axes[2][0].tick_params(axis='both', labelsize= 12)\n",
    "\n",
    "fig.tight_layout(pad=1.0)"
   ]
  },
  {
   "cell_type": "markdown",
   "id": "ab52f278",
   "metadata": {},
   "source": [
    "#### 3.5.4 Distribution of continous nuremical features"
   ]
  },
  {
   "cell_type": "code",
   "execution_count": 276,
   "id": "ccb7f16d",
   "metadata": {
    "scrolled": false
   },
   "outputs": [
    {
     "data": {
      "image/png": "[encoded data removed]",
      "text/plain": [
       "<Figure size 2016x1440 with 12 Axes>"
      ]
     },
     "metadata": {
      "needs_background": "light"
     },
     "output_type": "display_data"
    }
   ],
   "source": [
    "fig,axes=plt.subplots(4,3,figsize=[28, 20])\n",
    "sns.histplot(train_data['tot_balance'], color='Orange', ax=axes[0][0])\n",
    "axes[0][0].set_xlabel(\"tot_balance\", fontsize=20)\n",
    "axes[0][0].set_ylabel(\"Counts\", fontsize=20)\n",
    "axes[0][0].tick_params(axis='both', labelsize= 15)\n",
    "\n",
    "sns.histplot(train_data['avg_bal_cards'], color='Orange', ax=axes[0][1])\n",
    "axes[0][1].set_xlabel(\"avg_bal_cards\", fontsize=20)\n",
    "axes[0][1].set_ylabel(\"Counts\", fontsize=20)\n",
    "axes[0][1].tick_params(axis='both', labelsize= 15)\n",
    "\n",
    "sns.histplot(train_data['credit_age'], color='Orange', ax=axes[0][2])\n",
    "axes[0][2].set_xlabel(\"credit_age\", fontsize=20)\n",
    "axes[0][2].set_ylabel(\"Counts\", fontsize=20)\n",
    "axes[0][2].tick_params(axis='both', labelsize= 15)\n",
    "\n",
    "sns.histplot(train_data['credit_age_good_account'], color='Orange', ax=axes[1][0])\n",
    "axes[1][0].set_xlabel(\"credit_age_good_account\", fontsize=20)\n",
    "axes[1][0].set_ylabel(\"Counts\", fontsize=20)\n",
    "axes[1][0].tick_params(axis='both', labelsize= 15)\n",
    "\n",
    "sns.histplot(train_data['credit_card_age'], color='Orange', ax=axes[1][1])\n",
    "axes[1][1].set_xlabel(\"credit_card_age\", fontsize=20)\n",
    "axes[1][1].set_ylabel(\"Counts\", fontsize=20)\n",
    "axes[1][1].tick_params(axis='both', labelsize= 15)\n",
    "\n",
    "\n",
    "sns.histplot(train_data['tot_amount_currently_past_due'], color='Orange', ax=axes[1][2])\n",
    "axes[1][2].set_xlabel(\"tot_amount_currently_past_due\", fontsize=20)\n",
    "axes[1][2].set_ylabel(\"Counts\", fontsize=20)\n",
    "axes[1][2].tick_params(axis='both', labelsize= 15)\n",
    "\n",
    "\n",
    "sns.histplot(train_data['uti_open_card'], color='Orange', ax=axes[2][0])\n",
    "axes[2][0].set_xlabel(\"uti_open_card\", fontsize=20)\n",
    "axes[2][0].set_ylabel(\"Counts\", fontsize=20)\n",
    "axes[2][0].tick_params(axis='both', labelsize= 15)\n",
    "\n",
    "sns.histplot(train_data['pct_over_50_uti'], color='Orange', ax=axes[2][1])\n",
    "axes[2][1].set_xlabel(\"pct_over_50_uti\", fontsize=20)\n",
    "axes[2][1].set_ylabel(\"Counts\", fontsize=20)\n",
    "axes[2][1].tick_params(axis='both', labelsize= 15)\n",
    "\n",
    "sns.histplot(train_data['uti_max_credit_line'], color='Orange', ax=axes[2][2])\n",
    "axes[2][2].set_xlabel(\"uti_max_credit_line\", fontsize=20)\n",
    "axes[2][2].set_ylabel(\"Counts\", fontsize=20)\n",
    "axes[2][2].tick_params(axis='both', labelsize= 15)\n",
    "\n",
    "sns.histplot(train_data['pct_card_over_50_uti'], color='Orange', ax=axes[3][0])\n",
    "axes[3][0].set_xlabel(\"pct_card_over_50_uti\", fontsize=20)\n",
    "axes[3][0].set_ylabel(\"Counts\", fontsize=20)\n",
    "axes[3][0].tick_params(axis='both', labelsize= 15)\n",
    "\n",
    "sns.histplot(train_data['rep_income'], color='Orange', ax=axes[3][1])\n",
    "axes[3][1].set_xlabel(\"rep_income\", fontsize=20)\n",
    "axes[3][1].set_ylabel(\"Counts\", fontsize=20)\n",
    "axes[3][1].tick_params(axis='both', labelsize= 15)\n",
    "\n",
    "fig.tight_layout(pad=1)"
   ]
  },
  {
   "cell_type": "markdown",
   "id": "13d39538",
   "metadata": {},
   "source": [
    "### 3.6 Feature Correlation"
   ]
  },
  {
   "cell_type": "code",
   "execution_count": 285,
   "id": "608631e2",
   "metadata": {},
   "outputs": [
    {
     "data": {
      "text/plain": [
       "Text(0.5, 1.0, 'Numerical Feature Correlation')"
      ]
     },
     "execution_count": 285,
     "metadata": {},
     "output_type": "execute_result"
    },
    {
     "data": {
      "image/png": "[encoded data removed]",
      "text/plain": [
       "<Figure size 864x504 with 2 Axes>"
      ]
     },
     "metadata": {
      "needs_background": "light"
     },
     "output_type": "display_data"
    }
   ],
   "source": [
    "f, axss = plt.subplots(1, 1, figsize = [12, 7])\n",
    "corr = train_data.corr()\n",
    "sns.heatmap(corr, annot=True, fmt=\".1f\", cmap='plasma')\n",
    "plt.title('Numerical Feature Correlation')"
   ]
  },
  {
   "cell_type": "markdown",
   "id": "391afc42",
   "metadata": {},
   "source": [
    "## 4. Feature Engineering"
   ]
  },
  {
   "cell_type": "markdown",
   "id": "e0123fb2",
   "metadata": {},
   "source": [
    "### 4.1 Missing values\n",
    "- pct_card_over_50_uti has 1958 (9.8%) missing values in train, 489 missing in test\n",
    "- rep_income has 1559 (7.8%) missing values in train, 410 missing in test\n",
    "- rep_education has 1 missing value in train, 4 missing in test"
   ]
  },
  {
   "cell_type": "markdown",
   "id": "9c2335ab",
   "metadata": {},
   "source": [
    "#### pct_card_over_50_uti"
   ]
  },
  {
   "cell_type": "code",
   "execution_count": 35,
   "id": "df5a136d",
   "metadata": {},
   "outputs": [],
   "source": [
    "# fillna using mean of 'pct_card_over_50_uti', which is normally distributed\n",
    "train_data['pct_card_over_50_uti'] = train_data['pct_card_over_50_uti'].fillna(train_data['pct_card_over_50_uti'].mean())\n",
    "test_data['pct_card_over_50_uti'] = test_data['pct_card_over_50_uti'].fillna(test_data['pct_card_over_50_uti'].mean())"
   ]
  },
  {
   "cell_type": "markdown",
   "id": "2b67fa46",
   "metadata": {},
   "source": [
    "#### rep_education"
   ]
  },
  {
   "cell_type": "code",
   "execution_count": 36,
   "id": "7a3b3ea1",
   "metadata": {},
   "outputs": [],
   "source": [
    "# fillna using 'other'\n",
    "train_data['rep_education'] = train_data['rep_education'].fillna('other')\n",
    "test_data['rep_education'] = test_data['rep_education'].fillna('other')"
   ]
  },
  {
   "cell_type": "markdown",
   "id": "f5352b7c",
   "metadata": {},
   "source": [
    "#### rep_income "
   ]
  },
  {
   "cell_type": "code",
   "execution_count": 37,
   "id": "93798779",
   "metadata": {},
   "outputs": [],
   "source": [
    "# fillna using mean of 'rep_income', which is normally distributed\n",
    "train_data['rep_income'] = train_data['rep_income'].fillna(train_data['rep_income'].mean())\n",
    "test_data['rep_income'] = test_data['rep_income'].fillna(test_data['rep_income'].mean())"
   ]
  },
  {
   "cell_type": "markdown",
   "id": "545ed411",
   "metadata": {},
   "source": [
    "### 4.2 Comparision between features"
   ]
  },
  {
   "cell_type": "code",
   "execution_count": 38,
   "id": "1f089a94",
   "metadata": {},
   "outputs": [
    {
     "data": {
      "text/plain": [
       "(20000, 21)"
      ]
     },
     "execution_count": 38,
     "metadata": {},
     "output_type": "execute_result"
    }
   ],
   "source": [
    "train_data.shape"
   ]
  },
  {
   "cell_type": "code",
   "execution_count": 39,
   "id": "7795b555",
   "metadata": {},
   "outputs": [
    {
     "data": {
      "text/html": [
       "<div>\n",
       "<style scoped>\n",
       "    .dataframe tbody tr th:only-of-type {\n",
       "        vertical-align: middle;\n",
       "    }\n",
       "\n",
       "    .dataframe tbody tr th {\n",
       "        vertical-align: top;\n",
       "    }\n",
       "\n",
       "    .dataframe thead th {\n",
       "        text-align: right;\n",
       "    }\n",
       "</style>\n",
       "<table border=\"1\" class=\"dataframe\">\n",
       "  <thead>\n",
       "    <tr style=\"text-align: right;\">\n",
       "      <th></th>\n",
       "      <th>tot_balance</th>\n",
       "      <th>avg_bal_cards</th>\n",
       "      <th>credit_age</th>\n",
       "      <th>credit_age_good_account</th>\n",
       "      <th>credit_card_age</th>\n",
       "      <th>num_acc_30d_past_due_12_months</th>\n",
       "      <th>num_acc_30d_past_due_6_months</th>\n",
       "      <th>num_mortgage_currently_past_due</th>\n",
       "      <th>tot_amount_currently_past_due</th>\n",
       "      <th>num_inq_12_month</th>\n",
       "      <th>num_card_inq_24_month</th>\n",
       "      <th>num_card_12_month</th>\n",
       "      <th>num_auto_ 36_month</th>\n",
       "      <th>uti_open_card</th>\n",
       "      <th>pct_over_50_uti</th>\n",
       "      <th>uti_max_credit_line</th>\n",
       "      <th>pct_card_over_50_uti</th>\n",
       "      <th>rep_income</th>\n",
       "    </tr>\n",
       "  </thead>\n",
       "  <tbody>\n",
       "    <tr>\n",
       "      <th>count</th>\n",
       "      <td>20000.000000</td>\n",
       "      <td>20000.000000</td>\n",
       "      <td>20000.000000</td>\n",
       "      <td>20000.000000</td>\n",
       "      <td>20000.00000</td>\n",
       "      <td>20000.000000</td>\n",
       "      <td>20000.000000</td>\n",
       "      <td>20000.000000</td>\n",
       "      <td>20000.000000</td>\n",
       "      <td>20000.000000</td>\n",
       "      <td>20000.000000</td>\n",
       "      <td>20000.000000</td>\n",
       "      <td>20000.000000</td>\n",
       "      <td>20000.000000</td>\n",
       "      <td>20000.000000</td>\n",
       "      <td>20000.000000</td>\n",
       "      <td>18042.000000</td>\n",
       "      <td>18441.000000</td>\n",
       "    </tr>\n",
       "    <tr>\n",
       "      <th>mean</th>\n",
       "      <td>107439.032714</td>\n",
       "      <td>12230.735330</td>\n",
       "      <td>280.710050</td>\n",
       "      <td>146.100300</td>\n",
       "      <td>285.12085</td>\n",
       "      <td>0.156550</td>\n",
       "      <td>0.029700</td>\n",
       "      <td>0.030000</td>\n",
       "      <td>352.496791</td>\n",
       "      <td>0.616050</td>\n",
       "      <td>1.053050</td>\n",
       "      <td>0.272950</td>\n",
       "      <td>0.164150</td>\n",
       "      <td>0.490867</td>\n",
       "      <td>0.484157</td>\n",
       "      <td>0.465007</td>\n",
       "      <td>0.550964</td>\n",
       "      <td>166373.900129</td>\n",
       "    </tr>\n",
       "    <tr>\n",
       "      <th>std</th>\n",
       "      <td>22365.573172</td>\n",
       "      <td>3060.432745</td>\n",
       "      <td>73.238059</td>\n",
       "      <td>38.603134</td>\n",
       "      <td>64.25718</td>\n",
       "      <td>0.469524</td>\n",
       "      <td>0.176407</td>\n",
       "      <td>0.170591</td>\n",
       "      <td>1784.459199</td>\n",
       "      <td>1.158533</td>\n",
       "      <td>2.035766</td>\n",
       "      <td>0.487094</td>\n",
       "      <td>0.376977</td>\n",
       "      <td>0.129604</td>\n",
       "      <td>0.122891</td>\n",
       "      <td>0.130913</td>\n",
       "      <td>0.128403</td>\n",
       "      <td>33444.974846</td>\n",
       "    </tr>\n",
       "    <tr>\n",
       "      <th>min</th>\n",
       "      <td>0.000000</td>\n",
       "      <td>0.000000</td>\n",
       "      <td>0.000000</td>\n",
       "      <td>0.000000</td>\n",
       "      <td>0.00000</td>\n",
       "      <td>0.000000</td>\n",
       "      <td>0.000000</td>\n",
       "      <td>0.000000</td>\n",
       "      <td>0.000000</td>\n",
       "      <td>0.000000</td>\n",
       "      <td>0.000000</td>\n",
       "      <td>0.000000</td>\n",
       "      <td>0.000000</td>\n",
       "      <td>0.000000</td>\n",
       "      <td>0.000000</td>\n",
       "      <td>0.000000</td>\n",
       "      <td>0.000000</td>\n",
       "      <td>20000.000000</td>\n",
       "    </tr>\n",
       "    <tr>\n",
       "      <th>25%</th>\n",
       "      <td>92212.563363</td>\n",
       "      <td>10151.128043</td>\n",
       "      <td>231.000000</td>\n",
       "      <td>120.000000</td>\n",
       "      <td>242.00000</td>\n",
       "      <td>0.000000</td>\n",
       "      <td>0.000000</td>\n",
       "      <td>0.000000</td>\n",
       "      <td>0.000000</td>\n",
       "      <td>0.000000</td>\n",
       "      <td>0.000000</td>\n",
       "      <td>0.000000</td>\n",
       "      <td>0.000000</td>\n",
       "      <td>0.403926</td>\n",
       "      <td>0.401141</td>\n",
       "      <td>0.377850</td>\n",
       "      <td>0.464195</td>\n",
       "      <td>143504.239600</td>\n",
       "    </tr>\n",
       "    <tr>\n",
       "      <th>50%</th>\n",
       "      <td>107711.034250</td>\n",
       "      <td>12238.862545</td>\n",
       "      <td>280.000000</td>\n",
       "      <td>146.000000</td>\n",
       "      <td>285.00000</td>\n",
       "      <td>0.000000</td>\n",
       "      <td>0.000000</td>\n",
       "      <td>0.000000</td>\n",
       "      <td>0.000000</td>\n",
       "      <td>0.000000</td>\n",
       "      <td>0.000000</td>\n",
       "      <td>0.000000</td>\n",
       "      <td>0.000000</td>\n",
       "      <td>0.490365</td>\n",
       "      <td>0.485525</td>\n",
       "      <td>0.464847</td>\n",
       "      <td>0.551765</td>\n",
       "      <td>166462.899700</td>\n",
       "    </tr>\n",
       "    <tr>\n",
       "      <th>75%</th>\n",
       "      <td>122751.428100</td>\n",
       "      <td>14286.417122</td>\n",
       "      <td>330.000000</td>\n",
       "      <td>172.000000</td>\n",
       "      <td>330.00000</td>\n",
       "      <td>0.000000</td>\n",
       "      <td>0.000000</td>\n",
       "      <td>0.000000</td>\n",
       "      <td>0.000000</td>\n",
       "      <td>1.000000</td>\n",
       "      <td>1.000000</td>\n",
       "      <td>1.000000</td>\n",
       "      <td>0.000000</td>\n",
       "      <td>0.578311</td>\n",
       "      <td>0.567996</td>\n",
       "      <td>0.553581</td>\n",
       "      <td>0.638316</td>\n",
       "      <td>188903.520800</td>\n",
       "    </tr>\n",
       "    <tr>\n",
       "      <th>max</th>\n",
       "      <td>200000.000000</td>\n",
       "      <td>25000.000000</td>\n",
       "      <td>560.000000</td>\n",
       "      <td>300.000000</td>\n",
       "      <td>550.00000</td>\n",
       "      <td>5.000000</td>\n",
       "      <td>2.000000</td>\n",
       "      <td>1.000000</td>\n",
       "      <td>35000.000000</td>\n",
       "      <td>10.000000</td>\n",
       "      <td>18.000000</td>\n",
       "      <td>3.000000</td>\n",
       "      <td>2.000000</td>\n",
       "      <td>1.000000</td>\n",
       "      <td>1.000000</td>\n",
       "      <td>1.000000</td>\n",
       "      <td>1.000000</td>\n",
       "      <td>300000.000000</td>\n",
       "    </tr>\n",
       "  </tbody>\n",
       "</table>\n",
       "</div>"
      ],
      "text/plain": [
       "         tot_balance  avg_bal_cards    credit_age  credit_age_good_account  \\\n",
       "count   20000.000000   20000.000000  20000.000000             20000.000000   \n",
       "mean   107439.032714   12230.735330    280.710050               146.100300   \n",
       "std     22365.573172    3060.432745     73.238059                38.603134   \n",
       "min         0.000000       0.000000      0.000000                 0.000000   \n",
       "25%     92212.563363   10151.128043    231.000000               120.000000   \n",
       "50%    107711.034250   12238.862545    280.000000               146.000000   \n",
       "75%    122751.428100   14286.417122    330.000000               172.000000   \n",
       "max    200000.000000   25000.000000    560.000000               300.000000   \n",
       "\n",
       "       credit_card_age  num_acc_30d_past_due_12_months  \\\n",
       "count      20000.00000                    20000.000000   \n",
       "mean         285.12085                        0.156550   \n",
       "std           64.25718                        0.469524   \n",
       "min            0.00000                        0.000000   \n",
       "25%          242.00000                        0.000000   \n",
       "50%          285.00000                        0.000000   \n",
       "75%          330.00000                        0.000000   \n",
       "max          550.00000                        5.000000   \n",
       "\n",
       "       num_acc_30d_past_due_6_months  num_mortgage_currently_past_due  \\\n",
       "count                   20000.000000                     20000.000000   \n",
       "mean                        0.029700                         0.030000   \n",
       "std                         0.176407                         0.170591   \n",
       "min                         0.000000                         0.000000   \n",
       "25%                         0.000000                         0.000000   \n",
       "50%                         0.000000                         0.000000   \n",
       "75%                         0.000000                         0.000000   \n",
       "max                         2.000000                         1.000000   \n",
       "\n",
       "       tot_amount_currently_past_due  num_inq_12_month  num_card_inq_24_month  \\\n",
       "count                   20000.000000      20000.000000           20000.000000   \n",
       "mean                      352.496791          0.616050               1.053050   \n",
       "std                      1784.459199          1.158533               2.035766   \n",
       "min                         0.000000          0.000000               0.000000   \n",
       "25%                         0.000000          0.000000               0.000000   \n",
       "50%                         0.000000          0.000000               0.000000   \n",
       "75%                         0.000000          1.000000               1.000000   \n",
       "max                     35000.000000         10.000000              18.000000   \n",
       "\n",
       "       num_card_12_month  num_auto_ 36_month  uti_open_card  pct_over_50_uti  \\\n",
       "count       20000.000000        20000.000000   20000.000000     20000.000000   \n",
       "mean            0.272950            0.164150       0.490867         0.484157   \n",
       "std             0.487094            0.376977       0.129604         0.122891   \n",
       "min             0.000000            0.000000       0.000000         0.000000   \n",
       "25%             0.000000            0.000000       0.403926         0.401141   \n",
       "50%             0.000000            0.000000       0.490365         0.485525   \n",
       "75%             1.000000            0.000000       0.578311         0.567996   \n",
       "max             3.000000            2.000000       1.000000         1.000000   \n",
       "\n",
       "       uti_max_credit_line  pct_card_over_50_uti     rep_income  \n",
       "count         20000.000000          18042.000000   18441.000000  \n",
       "mean              0.465007              0.550964  166373.900129  \n",
       "std               0.130913              0.128403   33444.974846  \n",
       "min               0.000000              0.000000   20000.000000  \n",
       "25%               0.377850              0.464195  143504.239600  \n",
       "50%               0.464847              0.551765  166462.899700  \n",
       "75%               0.553581              0.638316  188903.520800  \n",
       "max               1.000000              1.000000  300000.000000  "
      ]
     },
     "execution_count": 39,
     "metadata": {},
     "output_type": "execute_result"
    }
   ],
   "source": [
    "X_num.describe()"
   ]
  },
  {
   "cell_type": "markdown",
   "id": "995a38c0",
   "metadata": {},
   "source": [
    "#### 4.2.1 credit_age replacement\n",
    "It is noted that some of the credit ages are smaller than credit_card_ages and credit_age_good_account."
   ]
  },
  {
   "cell_type": "markdown",
   "id": "f812c26b",
   "metadata": {},
   "source": [
    "#### train data"
   ]
  },
  {
   "cell_type": "code",
   "execution_count": 40,
   "id": "0106583a",
   "metadata": {},
   "outputs": [
    {
     "name": "stdout",
     "output_type": "stream",
     "text": [
      "(10809, 21)\n",
      "(213, 21)\n",
      "(8978, 21)\n"
     ]
    }
   ],
   "source": [
    "print(train_data[train_data['credit_age'] < train_data['credit_card_age']].shape)    # false 'credit_age'\n",
    "print(train_data[train_data['credit_age'] == train_data['credit_card_age']].shape)\n",
    "print(train_data[train_data['credit_age'] > train_data['credit_card_age']].shape)"
   ]
  },
  {
   "cell_type": "code",
   "execution_count": 41,
   "id": "08455a33",
   "metadata": {},
   "outputs": [
    {
     "name": "stdout",
     "output_type": "stream",
     "text": [
      "(48, 21)\n"
     ]
    }
   ],
   "source": [
    "print(train_data[train_data['credit_age'] < train_data['credit_age_good_account']].shape)  # false 'credit_age'"
   ]
  },
  {
   "cell_type": "code",
   "execution_count": 42,
   "id": "1ccc2ee2",
   "metadata": {},
   "outputs": [],
   "source": [
    "# replace the false 'credit_age' with the 'credit_card_age'\n",
    "for i in range(train_data.shape[0]):\n",
    "    if train_data.loc[i, 'credit_age'] < train_data.loc[i, 'credit_card_age']:\n",
    "        train_data.loc[i, 'credit_age'] = train_data.loc[i, 'credit_card_age']"
   ]
  },
  {
   "cell_type": "code",
   "execution_count": 43,
   "id": "a279b8be",
   "metadata": {},
   "outputs": [
    {
     "name": "stdout",
     "output_type": "stream",
     "text": [
      "(0, 21)\n",
      "(11022, 21)\n",
      "(8978, 21)\n"
     ]
    }
   ],
   "source": [
    "print(train_data[train_data['credit_age'] < train_data['credit_card_age']].shape)    # false 'credit-age'\n",
    "print(train_data[train_data['credit_age'] == train_data['credit_card_age']].shape)\n",
    "print(train_data[train_data['credit_age'] > train_data['credit_card_age']].shape)"
   ]
  },
  {
   "cell_type": "code",
   "execution_count": null,
   "id": "caeff293",
   "metadata": {},
   "outputs": [],
   "source": [
    "print(train_data[train_data['credit_age'] < train_data['credit_age_good_account']].shape)  # false 'credit_age'"
   ]
  },
  {
   "cell_type": "code",
   "execution_count": 44,
   "id": "d0801185",
   "metadata": {},
   "outputs": [],
   "source": [
    "for i in range(train_data.shape[0]):\n",
    "    if train_data.loc[i, 'credit_age'] < train_data.loc[i, 'credit_age_good_account']:\n",
    "        train_data.loc[i, 'credit_age'] = train_data.loc[i, 'credit_age_good_account']"
   ]
  },
  {
   "cell_type": "code",
   "execution_count": 45,
   "id": "38ddfc77",
   "metadata": {},
   "outputs": [
    {
     "data": {
      "text/plain": [
       "(0, 21)"
      ]
     },
     "execution_count": 45,
     "metadata": {},
     "output_type": "execute_result"
    }
   ],
   "source": [
    "train_data[train_data['credit_age'] < train_data['credit_age_good_account']].shape"
   ]
  },
  {
   "cell_type": "markdown",
   "id": "8e4c5ea1",
   "metadata": {},
   "source": [
    "#### test data"
   ]
  },
  {
   "cell_type": "code",
   "execution_count": 46,
   "id": "d58e36d1",
   "metadata": {},
   "outputs": [
    {
     "name": "stdout",
     "output_type": "stream",
     "text": [
      "(3336, 21)\n",
      "(43, 21)\n",
      "(1621, 21)\n"
     ]
    }
   ],
   "source": [
    "print(test_data[test_data['credit_age'] < test_data['credit_card_age']].shape)    # false 'credit_age'\n",
    "print(test_data[test_data['credit_age'] == test_data['credit_card_age']].shape)\n",
    "print(test_data[test_data['credit_age'] > test_data['credit_card_age']].shape)"
   ]
  },
  {
   "cell_type": "code",
   "execution_count": 47,
   "id": "e552a54f",
   "metadata": {},
   "outputs": [
    {
     "data": {
      "text/plain": [
       "(29, 21)"
      ]
     },
     "execution_count": 47,
     "metadata": {},
     "output_type": "execute_result"
    }
   ],
   "source": [
    "test_data[test_data['credit_age'] < test_data['credit_age_good_account']].shape "
   ]
  },
  {
   "cell_type": "code",
   "execution_count": 48,
   "id": "7e8b9cdc",
   "metadata": {},
   "outputs": [],
   "source": [
    "# replace the false 'credit_age' with the 'credit_card_age'\n",
    "for i in range(test_data.shape[0]):\n",
    "    if test_data.loc[i, 'credit_age'] < test_data.loc[i, 'credit_card_age']:\n",
    "        test_data.loc[i, 'credit_age'] = test_data.loc[i, 'credit_card_age']"
   ]
  },
  {
   "cell_type": "code",
   "execution_count": 49,
   "id": "87ec4ce8",
   "metadata": {},
   "outputs": [
    {
     "name": "stdout",
     "output_type": "stream",
     "text": [
      "(0, 21)\n",
      "(3379, 21)\n",
      "(1621, 21)\n"
     ]
    }
   ],
   "source": [
    "print(test_data[test_data['credit_age'] < test_data['credit_card_age']].shape)    # false 'credit_age'\n",
    "print(test_data[test_data['credit_age'] == test_data['credit_card_age']].shape)\n",
    "print(test_data[test_data['credit_age'] > test_data['credit_card_age']].shape)"
   ]
  },
  {
   "cell_type": "code",
   "execution_count": 50,
   "id": "3828a5a8",
   "metadata": {},
   "outputs": [],
   "source": [
    "for i in range(test_data.shape[0]):\n",
    "    if test_data.loc[i, 'credit_age'] < test_data.loc[i, 'credit_age_good_account']:\n",
    "        test_data.loc[i, 'credit_age'] = test_data.loc[i, 'credit_age_good_account']"
   ]
  },
  {
   "cell_type": "code",
   "execution_count": 51,
   "id": "92fb2247",
   "metadata": {},
   "outputs": [
    {
     "data": {
      "text/plain": [
       "(0, 21)"
      ]
     },
     "execution_count": 51,
     "metadata": {},
     "output_type": "execute_result"
    }
   ],
   "source": [
    "test_data[test_data['credit_age'] < test_data['credit_age_good_account']].shape "
   ]
  },
  {
   "cell_type": "markdown",
   "id": "a3820ebc",
   "metadata": {},
   "source": [
    "#### 4.2.2  num_acc_30d_past_due_12_months"
   ]
  },
  {
   "cell_type": "code",
   "execution_count": 52,
   "id": "8eb47a0f",
   "metadata": {},
   "outputs": [
    {
     "name": "stdout",
     "output_type": "stream",
     "text": [
      "(0, 21)\n",
      "(5, 21)\n"
     ]
    }
   ],
   "source": [
    "print(train_data[train_data['num_acc_30d_past_due_12_months'] < train_data['num_acc_30d_past_due_6_months']].shape)\n",
    "print(test_data[test_data['num_acc_30d_past_due_12_months'] < test_data['num_acc_30d_past_due_6_months']].shape)"
   ]
  },
  {
   "cell_type": "code",
   "execution_count": 53,
   "id": "69fe3998",
   "metadata": {},
   "outputs": [],
   "source": [
    "for i in range(test_data.shape[0]):\n",
    "    if test_data.loc[i, 'num_acc_30d_past_due_12_months'] < test_data.loc[i, 'num_acc_30d_past_due_6_months']:\n",
    "        test_data.loc[i, 'num_acc_30d_past_due_12_months'] = test_data.loc[i, 'num_acc_30d_past_due_6_months']"
   ]
  },
  {
   "cell_type": "code",
   "execution_count": 54,
   "id": "4251c80c",
   "metadata": {},
   "outputs": [
    {
     "name": "stdout",
     "output_type": "stream",
     "text": [
      "(0, 21)\n"
     ]
    }
   ],
   "source": [
    "print(test_data[test_data['num_acc_30d_past_due_12_months'] < test_data['num_acc_30d_past_due_6_months']].shape)"
   ]
  },
  {
   "cell_type": "markdown",
   "id": "df60b256",
   "metadata": {},
   "source": [
    "#### 4.2.3 num_inq_12_month  & num_card_inq_24_month"
   ]
  },
  {
   "cell_type": "markdown",
   "id": "43337b94",
   "metadata": {},
   "source": [
    "#### train data"
   ]
  },
  {
   "cell_type": "code",
   "execution_count": 293,
   "id": "e6e172c7",
   "metadata": {},
   "outputs": [
    {
     "name": "stdout",
     "output_type": "stream",
     "text": [
      "(3576, 21)\n",
      "(3384, 21)\n"
     ]
    }
   ],
   "source": [
    "print(train_data[train_data['num_inq_12_month'] < train_data['num_card_12_month']].shape)\n",
    "print(train_data[train_data['num_card_inq_24_month'] < train_data['num_card_12_month']].shape)"
   ]
  },
  {
   "cell_type": "code",
   "execution_count": 300,
   "id": "71be2036",
   "metadata": {},
   "outputs": [],
   "source": [
    "# replace the false 'num_inq_12_month'\n",
    "for i in range(train_data.shape[0]):\n",
    "    if train_data.loc[i, 'num_inq_12_month'] < train_data.loc[i, 'num_card_12_month']:\n",
    "        train_data.loc[i, 'num_inq_12_month'] = train_data.loc[i, 'num_card_12_month']\n",
    "        \n",
    "    if train_data.loc[i, 'num_card_inq_24_month'] < train_data.loc[i, 'num_card_12_month']:\n",
    "        train_data.loc[i, 'num_card_inq_24_month'] = train_data.loc[i, 'num_card_12_month']           "
   ]
  },
  {
   "cell_type": "code",
   "execution_count": 301,
   "id": "17a171a3",
   "metadata": {},
   "outputs": [
    {
     "name": "stdout",
     "output_type": "stream",
     "text": [
      "(0, 21)\n",
      "(0, 21)\n"
     ]
    }
   ],
   "source": [
    "print(train_data[train_data['num_inq_12_month'] < train_data['num_card_12_month']].shape)\n",
    "print(train_data[train_data['num_card_inq_24_month'] < train_data['num_card_12_month']].shape)"
   ]
  },
  {
   "cell_type": "markdown",
   "id": "505d294c",
   "metadata": {},
   "source": [
    "#### test data"
   ]
  },
  {
   "cell_type": "code",
   "execution_count": 303,
   "id": "fac123d7",
   "metadata": {},
   "outputs": [
    {
     "name": "stdout",
     "output_type": "stream",
     "text": [
      "(811, 21)\n",
      "(744, 21)\n"
     ]
    }
   ],
   "source": [
    "print(test_data[test_data['num_inq_12_month'] < test_data['num_card_12_month']].shape)\n",
    "print(test_data[test_data['num_card_inq_24_month'] < test_data['num_card_12_month']].shape)"
   ]
  },
  {
   "cell_type": "code",
   "execution_count": 304,
   "id": "27ac7d76",
   "metadata": {},
   "outputs": [],
   "source": [
    "# replace the false 'credit_age' with the 'credit_card_age'\n",
    "for i in range(test_data.shape[0]):\n",
    "    if test_data.loc[i, 'num_inq_12_month'] < test_data.loc[i, 'num_card_12_month']:\n",
    "        test_data.loc[i, 'num_inq_12_month'] = test_data.loc[i, 'num_card_12_month']\n",
    "        \n",
    "    if test_data.loc[i, 'num_card_inq_24_month'] < test_data.loc[i, 'num_card_12_month']:\n",
    "        test_data.loc[i, 'num_card_inq_24_month'] = test_data.loc[i, 'num_card_12_month']           "
   ]
  },
  {
   "cell_type": "code",
   "execution_count": 305,
   "id": "ee96b864",
   "metadata": {},
   "outputs": [
    {
     "name": "stdout",
     "output_type": "stream",
     "text": [
      "(0, 21)\n",
      "(0, 21)\n"
     ]
    }
   ],
   "source": [
    "print(test_data[test_data['num_inq_12_month'] < test_data['num_card_12_month']].shape)\n",
    "print(test_data[test_data['num_card_inq_24_month'] < test_data['num_card_12_month']].shape)"
   ]
  },
  {
   "cell_type": "markdown",
   "id": "34b2521d",
   "metadata": {},
   "source": [
    "#### 4.2.4 tot_balance & avg_bal_cards"
   ]
  },
  {
   "cell_type": "code",
   "execution_count": 306,
   "id": "f883173f",
   "metadata": {},
   "outputs": [
    {
     "name": "stdout",
     "output_type": "stream",
     "text": [
      "(1, 21)\n"
     ]
    }
   ],
   "source": [
    "print(train_data[train_data['tot_balance'] < train_data['avg_bal_cards']].shape)"
   ]
  },
  {
   "cell_type": "markdown",
   "id": "989acaf6",
   "metadata": {},
   "source": [
    "### 4.3 Numerical feature scaling"
   ]
  },
  {
   "cell_type": "code",
   "execution_count": 55,
   "id": "07296a31",
   "metadata": {},
   "outputs": [],
   "source": [
    "# MinMaxScaler\n",
    "scaler = preprocessing.MinMaxScaler()\n",
    "all_columns = train_data.columns\n",
    "num_col = [col for col in all_columns if col not in to_drop]\n",
    "X_train = train_data.copy()\n",
    "scaler.fit(X_train[num_col])\n",
    "X_train[num_col] = scaler.transform(X_train[num_col])"
   ]
  },
  {
   "cell_type": "code",
   "execution_count": 278,
   "id": "ade5a0d5",
   "metadata": {},
   "outputs": [
    {
     "data": {
      "text/plain": [
       "(21,)"
      ]
     },
     "execution_count": 278,
     "metadata": {},
     "output_type": "execute_result"
    }
   ],
   "source": [
    "all_columns.shape"
   ]
  },
  {
   "cell_type": "code",
   "execution_count": 280,
   "id": "0acbed77",
   "metadata": {},
   "outputs": [
    {
     "data": {
      "text/plain": [
       "18"
      ]
     },
     "execution_count": 280,
     "metadata": {},
     "output_type": "execute_result"
    }
   ],
   "source": [
    "len(num_col)"
   ]
  },
  {
   "cell_type": "code",
   "execution_count": 281,
   "id": "3e052b3e",
   "metadata": {},
   "outputs": [
    {
     "data": {
      "text/html": [
       "<div>\n",
       "<style scoped>\n",
       "    .dataframe tbody tr th:only-of-type {\n",
       "        vertical-align: middle;\n",
       "    }\n",
       "\n",
       "    .dataframe tbody tr th {\n",
       "        vertical-align: top;\n",
       "    }\n",
       "\n",
       "    .dataframe thead th {\n",
       "        text-align: right;\n",
       "    }\n",
       "</style>\n",
       "<table border=\"1\" class=\"dataframe\">\n",
       "  <thead>\n",
       "    <tr style=\"text-align: right;\">\n",
       "      <th></th>\n",
       "      <th>tot_balance</th>\n",
       "      <th>avg_bal_cards</th>\n",
       "      <th>credit_age</th>\n",
       "      <th>credit_age_good_account</th>\n",
       "      <th>credit_card_age</th>\n",
       "      <th>num_acc_30d_past_due_12_months</th>\n",
       "      <th>num_acc_30d_past_due_6_months</th>\n",
       "      <th>num_mortgage_currently_past_due</th>\n",
       "      <th>tot_amount_currently_past_due</th>\n",
       "      <th>num_inq_12_month</th>\n",
       "      <th>...</th>\n",
       "      <th>pct_over_50_uti</th>\n",
       "      <th>uti_max_credit_line</th>\n",
       "      <th>pct_card_over_50_uti</th>\n",
       "      <th>rep_income</th>\n",
       "      <th>ind_XYZ_0</th>\n",
       "      <th>ind_XYZ_1</th>\n",
       "      <th>rep_education_college</th>\n",
       "      <th>rep_education_graduate</th>\n",
       "      <th>rep_education_high_school</th>\n",
       "      <th>rep_education_other</th>\n",
       "    </tr>\n",
       "  </thead>\n",
       "  <tbody>\n",
       "    <tr>\n",
       "      <th>0</th>\n",
       "      <td>0.514781</td>\n",
       "      <td>0.592762</td>\n",
       "      <td>0.419608</td>\n",
       "      <td>0.346667</td>\n",
       "      <td>0.480000</td>\n",
       "      <td>0.0</td>\n",
       "      <td>0.0</td>\n",
       "      <td>0.0</td>\n",
       "      <td>0.0</td>\n",
       "      <td>0.0</td>\n",
       "      <td>...</td>\n",
       "      <td>0.342183</td>\n",
       "      <td>0.513934</td>\n",
       "      <td>0.550866</td>\n",
       "      <td>0.350951</td>\n",
       "      <td>1</td>\n",
       "      <td>0</td>\n",
       "      <td>1</td>\n",
       "      <td>0</td>\n",
       "      <td>0</td>\n",
       "      <td>0</td>\n",
       "    </tr>\n",
       "    <tr>\n",
       "      <th>1</th>\n",
       "      <td>0.663794</td>\n",
       "      <td>0.758077</td>\n",
       "      <td>0.654902</td>\n",
       "      <td>0.656667</td>\n",
       "      <td>0.674545</td>\n",
       "      <td>0.0</td>\n",
       "      <td>0.0</td>\n",
       "      <td>0.0</td>\n",
       "      <td>0.0</td>\n",
       "      <td>0.0</td>\n",
       "      <td>...</td>\n",
       "      <td>0.540671</td>\n",
       "      <td>0.418016</td>\n",
       "      <td>0.550964</td>\n",
       "      <td>0.247732</td>\n",
       "      <td>1</td>\n",
       "      <td>0</td>\n",
       "      <td>1</td>\n",
       "      <td>0</td>\n",
       "      <td>0</td>\n",
       "      <td>0</td>\n",
       "    </tr>\n",
       "    <tr>\n",
       "      <th>2</th>\n",
       "      <td>0.623295</td>\n",
       "      <td>0.613917</td>\n",
       "      <td>0.466667</td>\n",
       "      <td>0.366667</td>\n",
       "      <td>0.523636</td>\n",
       "      <td>0.0</td>\n",
       "      <td>0.0</td>\n",
       "      <td>0.0</td>\n",
       "      <td>0.0</td>\n",
       "      <td>0.0</td>\n",
       "      <td>...</td>\n",
       "      <td>0.338560</td>\n",
       "      <td>0.341627</td>\n",
       "      <td>0.451417</td>\n",
       "      <td>0.647733</td>\n",
       "      <td>1</td>\n",
       "      <td>0</td>\n",
       "      <td>1</td>\n",
       "      <td>0</td>\n",
       "      <td>0</td>\n",
       "      <td>0</td>\n",
       "    </tr>\n",
       "    <tr>\n",
       "      <th>3</th>\n",
       "      <td>0.669843</td>\n",
       "      <td>0.562029</td>\n",
       "      <td>0.637255</td>\n",
       "      <td>0.746667</td>\n",
       "      <td>0.623636</td>\n",
       "      <td>0.0</td>\n",
       "      <td>0.0</td>\n",
       "      <td>0.0</td>\n",
       "      <td>0.0</td>\n",
       "      <td>0.2</td>\n",
       "      <td>...</td>\n",
       "      <td>0.683589</td>\n",
       "      <td>0.542940</td>\n",
       "      <td>0.607843</td>\n",
       "      <td>0.613552</td>\n",
       "      <td>1</td>\n",
       "      <td>0</td>\n",
       "      <td>1</td>\n",
       "      <td>0</td>\n",
       "      <td>0</td>\n",
       "      <td>0</td>\n",
       "    </tr>\n",
       "    <tr>\n",
       "      <th>4</th>\n",
       "      <td>0.718009</td>\n",
       "      <td>0.594341</td>\n",
       "      <td>0.635294</td>\n",
       "      <td>0.516667</td>\n",
       "      <td>0.505455</td>\n",
       "      <td>0.0</td>\n",
       "      <td>0.0</td>\n",
       "      <td>0.0</td>\n",
       "      <td>0.0</td>\n",
       "      <td>0.0</td>\n",
       "      <td>...</td>\n",
       "      <td>0.510812</td>\n",
       "      <td>0.632934</td>\n",
       "      <td>0.573680</td>\n",
       "      <td>0.505233</td>\n",
       "      <td>1</td>\n",
       "      <td>0</td>\n",
       "      <td>0</td>\n",
       "      <td>1</td>\n",
       "      <td>0</td>\n",
       "      <td>0</td>\n",
       "    </tr>\n",
       "  </tbody>\n",
       "</table>\n",
       "<p>5 rows × 24 columns</p>\n",
       "</div>"
      ],
      "text/plain": [
       "   tot_balance  avg_bal_cards  credit_age  credit_age_good_account  \\\n",
       "0     0.514781       0.592762    0.419608                 0.346667   \n",
       "1     0.663794       0.758077    0.654902                 0.656667   \n",
       "2     0.623295       0.613917    0.466667                 0.366667   \n",
       "3     0.669843       0.562029    0.637255                 0.746667   \n",
       "4     0.718009       0.594341    0.635294                 0.516667   \n",
       "\n",
       "   credit_card_age  num_acc_30d_past_due_12_months  \\\n",
       "0         0.480000                             0.0   \n",
       "1         0.674545                             0.0   \n",
       "2         0.523636                             0.0   \n",
       "3         0.623636                             0.0   \n",
       "4         0.505455                             0.0   \n",
       "\n",
       "   num_acc_30d_past_due_6_months  num_mortgage_currently_past_due  \\\n",
       "0                            0.0                              0.0   \n",
       "1                            0.0                              0.0   \n",
       "2                            0.0                              0.0   \n",
       "3                            0.0                              0.0   \n",
       "4                            0.0                              0.0   \n",
       "\n",
       "   tot_amount_currently_past_due  num_inq_12_month  ...  pct_over_50_uti  \\\n",
       "0                            0.0               0.0  ...         0.342183   \n",
       "1                            0.0               0.0  ...         0.540671   \n",
       "2                            0.0               0.0  ...         0.338560   \n",
       "3                            0.0               0.2  ...         0.683589   \n",
       "4                            0.0               0.0  ...         0.510812   \n",
       "\n",
       "   uti_max_credit_line  pct_card_over_50_uti  rep_income  ind_XYZ_0  \\\n",
       "0             0.513934              0.550866    0.350951          1   \n",
       "1             0.418016              0.550964    0.247732          1   \n",
       "2             0.341627              0.451417    0.647733          1   \n",
       "3             0.542940              0.607843    0.613552          1   \n",
       "4             0.632934              0.573680    0.505233          1   \n",
       "\n",
       "   ind_XYZ_1  rep_education_college  rep_education_graduate  \\\n",
       "0          0                      1                       0   \n",
       "1          0                      1                       0   \n",
       "2          0                      1                       0   \n",
       "3          0                      1                       0   \n",
       "4          0                      0                       1   \n",
       "\n",
       "   rep_education_high_school  rep_education_other  \n",
       "0                          0                    0  \n",
       "1                          0                    0  \n",
       "2                          0                    0  \n",
       "3                          0                    0  \n",
       "4                          0                    0  \n",
       "\n",
       "[5 rows x 24 columns]"
      ]
     },
     "execution_count": 281,
     "metadata": {},
     "output_type": "execute_result"
    }
   ],
   "source": [
    "X_train.head()"
   ]
  },
  {
   "cell_type": "code",
   "execution_count": 56,
   "id": "35a3f40a",
   "metadata": {},
   "outputs": [],
   "source": [
    "# test data scaling\n",
    "X_test = test_data.copy()\n",
    "X_test[num_col] = scaler.transform(X_test[num_col])"
   ]
  },
  {
   "cell_type": "markdown",
   "id": "799d7c2d",
   "metadata": {},
   "source": [
    "### 4.4 Categorical feature encoding"
   ]
  },
  {
   "cell_type": "code",
   "execution_count": 57,
   "id": "6b275169",
   "metadata": {},
   "outputs": [
    {
     "data": {
      "text/plain": [
       "(20000, 25)"
      ]
     },
     "execution_count": 57,
     "metadata": {},
     "output_type": "execute_result"
    }
   ],
   "source": [
    "X_train = pd.get_dummies(X_train, columns=cat_col)  # 5row * 25col\n",
    "X_train.shape"
   ]
  },
  {
   "cell_type": "code",
   "execution_count": 58,
   "id": "efff2b2b",
   "metadata": {},
   "outputs": [
    {
     "data": {
      "text/plain": [
       "(5000, 25)"
      ]
     },
     "execution_count": 58,
     "metadata": {},
     "output_type": "execute_result"
    }
   ],
   "source": [
    "X_test = pd.get_dummies(X_test, columns=cat_col)   # 5row * 25col\n",
    "X_test.shape"
   ]
  },
  {
   "cell_type": "code",
   "execution_count": 59,
   "id": "b00f2d8f",
   "metadata": {},
   "outputs": [
    {
     "data": {
      "text/html": [
       "<div>\n",
       "<style scoped>\n",
       "    .dataframe tbody tr th:only-of-type {\n",
       "        vertical-align: middle;\n",
       "    }\n",
       "\n",
       "    .dataframe tbody tr th {\n",
       "        vertical-align: top;\n",
       "    }\n",
       "\n",
       "    .dataframe thead th {\n",
       "        text-align: right;\n",
       "    }\n",
       "</style>\n",
       "<table border=\"1\" class=\"dataframe\">\n",
       "  <thead>\n",
       "    <tr style=\"text-align: right;\">\n",
       "      <th></th>\n",
       "      <th>tot_balance</th>\n",
       "      <th>avg_bal_cards</th>\n",
       "      <th>credit_age</th>\n",
       "      <th>credit_age_good_account</th>\n",
       "      <th>credit_card_age</th>\n",
       "      <th>num_acc_30d_past_due_12_months</th>\n",
       "      <th>num_acc_30d_past_due_6_months</th>\n",
       "      <th>num_mortgage_currently_past_due</th>\n",
       "      <th>tot_amount_currently_past_due</th>\n",
       "      <th>num_inq_12_month</th>\n",
       "      <th>...</th>\n",
       "      <th>uti_max_credit_line</th>\n",
       "      <th>pct_card_over_50_uti</th>\n",
       "      <th>rep_income</th>\n",
       "      <th>Def_ind</th>\n",
       "      <th>ind_XYZ_0</th>\n",
       "      <th>ind_XYZ_1</th>\n",
       "      <th>rep_education_college</th>\n",
       "      <th>rep_education_graduate</th>\n",
       "      <th>rep_education_high_school</th>\n",
       "      <th>rep_education_other</th>\n",
       "    </tr>\n",
       "  </thead>\n",
       "  <tbody>\n",
       "    <tr>\n",
       "      <th>0</th>\n",
       "      <td>0.514781</td>\n",
       "      <td>0.592762</td>\n",
       "      <td>0.419608</td>\n",
       "      <td>0.346667</td>\n",
       "      <td>0.480000</td>\n",
       "      <td>0.0</td>\n",
       "      <td>0.0</td>\n",
       "      <td>0.0</td>\n",
       "      <td>0.0</td>\n",
       "      <td>0.0</td>\n",
       "      <td>...</td>\n",
       "      <td>0.513934</td>\n",
       "      <td>0.550866</td>\n",
       "      <td>0.350951</td>\n",
       "      <td>0</td>\n",
       "      <td>1</td>\n",
       "      <td>0</td>\n",
       "      <td>1</td>\n",
       "      <td>0</td>\n",
       "      <td>0</td>\n",
       "      <td>0</td>\n",
       "    </tr>\n",
       "    <tr>\n",
       "      <th>1</th>\n",
       "      <td>0.663794</td>\n",
       "      <td>0.758077</td>\n",
       "      <td>0.654902</td>\n",
       "      <td>0.656667</td>\n",
       "      <td>0.674545</td>\n",
       "      <td>0.0</td>\n",
       "      <td>0.0</td>\n",
       "      <td>0.0</td>\n",
       "      <td>0.0</td>\n",
       "      <td>0.0</td>\n",
       "      <td>...</td>\n",
       "      <td>0.418016</td>\n",
       "      <td>0.550964</td>\n",
       "      <td>0.247732</td>\n",
       "      <td>0</td>\n",
       "      <td>1</td>\n",
       "      <td>0</td>\n",
       "      <td>1</td>\n",
       "      <td>0</td>\n",
       "      <td>0</td>\n",
       "      <td>0</td>\n",
       "    </tr>\n",
       "    <tr>\n",
       "      <th>2</th>\n",
       "      <td>0.623295</td>\n",
       "      <td>0.613917</td>\n",
       "      <td>0.466667</td>\n",
       "      <td>0.366667</td>\n",
       "      <td>0.523636</td>\n",
       "      <td>0.0</td>\n",
       "      <td>0.0</td>\n",
       "      <td>0.0</td>\n",
       "      <td>0.0</td>\n",
       "      <td>0.0</td>\n",
       "      <td>...</td>\n",
       "      <td>0.341627</td>\n",
       "      <td>0.451417</td>\n",
       "      <td>0.647733</td>\n",
       "      <td>0</td>\n",
       "      <td>1</td>\n",
       "      <td>0</td>\n",
       "      <td>1</td>\n",
       "      <td>0</td>\n",
       "      <td>0</td>\n",
       "      <td>0</td>\n",
       "    </tr>\n",
       "    <tr>\n",
       "      <th>3</th>\n",
       "      <td>0.669843</td>\n",
       "      <td>0.562029</td>\n",
       "      <td>0.637255</td>\n",
       "      <td>0.746667</td>\n",
       "      <td>0.623636</td>\n",
       "      <td>0.0</td>\n",
       "      <td>0.0</td>\n",
       "      <td>0.0</td>\n",
       "      <td>0.0</td>\n",
       "      <td>0.2</td>\n",
       "      <td>...</td>\n",
       "      <td>0.542940</td>\n",
       "      <td>0.607843</td>\n",
       "      <td>0.613552</td>\n",
       "      <td>0</td>\n",
       "      <td>1</td>\n",
       "      <td>0</td>\n",
       "      <td>1</td>\n",
       "      <td>0</td>\n",
       "      <td>0</td>\n",
       "      <td>0</td>\n",
       "    </tr>\n",
       "    <tr>\n",
       "      <th>4</th>\n",
       "      <td>0.718009</td>\n",
       "      <td>0.594341</td>\n",
       "      <td>0.635294</td>\n",
       "      <td>0.516667</td>\n",
       "      <td>0.505455</td>\n",
       "      <td>0.0</td>\n",
       "      <td>0.0</td>\n",
       "      <td>0.0</td>\n",
       "      <td>0.0</td>\n",
       "      <td>0.0</td>\n",
       "      <td>...</td>\n",
       "      <td>0.632934</td>\n",
       "      <td>0.573680</td>\n",
       "      <td>0.505233</td>\n",
       "      <td>0</td>\n",
       "      <td>1</td>\n",
       "      <td>0</td>\n",
       "      <td>0</td>\n",
       "      <td>1</td>\n",
       "      <td>0</td>\n",
       "      <td>0</td>\n",
       "    </tr>\n",
       "  </tbody>\n",
       "</table>\n",
       "<p>5 rows × 25 columns</p>\n",
       "</div>"
      ],
      "text/plain": [
       "   tot_balance  avg_bal_cards  credit_age  credit_age_good_account  \\\n",
       "0     0.514781       0.592762    0.419608                 0.346667   \n",
       "1     0.663794       0.758077    0.654902                 0.656667   \n",
       "2     0.623295       0.613917    0.466667                 0.366667   \n",
       "3     0.669843       0.562029    0.637255                 0.746667   \n",
       "4     0.718009       0.594341    0.635294                 0.516667   \n",
       "\n",
       "   credit_card_age  num_acc_30d_past_due_12_months  \\\n",
       "0         0.480000                             0.0   \n",
       "1         0.674545                             0.0   \n",
       "2         0.523636                             0.0   \n",
       "3         0.623636                             0.0   \n",
       "4         0.505455                             0.0   \n",
       "\n",
       "   num_acc_30d_past_due_6_months  num_mortgage_currently_past_due  \\\n",
       "0                            0.0                              0.0   \n",
       "1                            0.0                              0.0   \n",
       "2                            0.0                              0.0   \n",
       "3                            0.0                              0.0   \n",
       "4                            0.0                              0.0   \n",
       "\n",
       "   tot_amount_currently_past_due  num_inq_12_month  ...  uti_max_credit_line  \\\n",
       "0                            0.0               0.0  ...             0.513934   \n",
       "1                            0.0               0.0  ...             0.418016   \n",
       "2                            0.0               0.0  ...             0.341627   \n",
       "3                            0.0               0.2  ...             0.542940   \n",
       "4                            0.0               0.0  ...             0.632934   \n",
       "\n",
       "   pct_card_over_50_uti  rep_income  Def_ind  ind_XYZ_0  ind_XYZ_1  \\\n",
       "0              0.550866    0.350951        0          1          0   \n",
       "1              0.550964    0.247732        0          1          0   \n",
       "2              0.451417    0.647733        0          1          0   \n",
       "3              0.607843    0.613552        0          1          0   \n",
       "4              0.573680    0.505233        0          1          0   \n",
       "\n",
       "   rep_education_college  rep_education_graduate  rep_education_high_school  \\\n",
       "0                      1                       0                          0   \n",
       "1                      1                       0                          0   \n",
       "2                      1                       0                          0   \n",
       "3                      1                       0                          0   \n",
       "4                      0                       1                          0   \n",
       "\n",
       "   rep_education_other  \n",
       "0                    0  \n",
       "1                    0  \n",
       "2                    0  \n",
       "3                    0  \n",
       "4                    0  \n",
       "\n",
       "[5 rows x 25 columns]"
      ]
     },
     "execution_count": 59,
     "metadata": {},
     "output_type": "execute_result"
    }
   ],
   "source": [
    "X_train.head()"
   ]
  },
  {
   "cell_type": "markdown",
   "id": "5936c574",
   "metadata": {},
   "source": [
    "### 4.4 Data preparation"
   ]
  },
  {
   "cell_type": "code",
   "execution_count": 60,
   "id": "748ca3a6",
   "metadata": {},
   "outputs": [],
   "source": [
    "# response variable\n",
    "y = X_train['Def_ind']\n",
    "\n",
    "# predictors\n",
    "X_train = X_train.drop('Def_ind', axis=1)"
   ]
  },
  {
   "cell_type": "code",
   "execution_count": 61,
   "id": "9512f6f7",
   "metadata": {},
   "outputs": [
    {
     "data": {
      "text/plain": [
       "(20000, 24)"
      ]
     },
     "execution_count": 61,
     "metadata": {},
     "output_type": "execute_result"
    }
   ],
   "source": [
    "X_train.shape"
   ]
  },
  {
   "cell_type": "code",
   "execution_count": 62,
   "id": "cb2f1df6",
   "metadata": {},
   "outputs": [],
   "source": [
    "y_test = X_test['Def_ind']\n",
    "X_test = X_test.drop('Def_ind', axis=1)"
   ]
  },
  {
   "cell_type": "code",
   "execution_count": 63,
   "id": "9d484a96",
   "metadata": {},
   "outputs": [
    {
     "data": {
      "text/plain": [
       "(5000, 24)"
      ]
     },
     "execution_count": 63,
     "metadata": {},
     "output_type": "execute_result"
    }
   ],
   "source": [
    "X_test.shape"
   ]
  },
  {
   "cell_type": "markdown",
   "id": "4f660619",
   "metadata": {},
   "source": [
    "## 5. Modelling "
   ]
  },
  {
   "cell_type": "markdown",
   "id": "5595f225",
   "metadata": {},
   "source": [
    "### 5.1 Model selection with Cross Validation (no hyperparameter tuning) on Original Data"
   ]
  },
  {
   "cell_type": "code",
   "execution_count": 64,
   "id": "617d01ee",
   "metadata": {},
   "outputs": [
    {
     "name": "stdout",
     "output_type": "stream",
     "text": [
      "CPU times: user 1e+03 ns, sys: 1 µs, total: 2 µs\n",
      "Wall time: 2.86 µs\n",
      "LogisticRegression(max_iter=1000) F1 score is 0.259 (0.0102)\n",
      "========\n",
      "CPU times: user 8 µs, sys: 26 µs, total: 34 µs\n",
      "Wall time: 8.82 µs\n",
      "DecisionTreeClassifier() F1 score is 0.330 (0.0091)\n",
      "========\n",
      "CPU times: user 2 µs, sys: 1 µs, total: 3 µs\n",
      "Wall time: 3.81 µs\n",
      "RandomForestClassifier() F1 score is 0.356 (0.0107)\n",
      "========\n",
      "CPU times: user 1e+03 ns, sys: 0 ns, total: 1e+03 ns\n",
      "Wall time: 2.86 µs\n",
      "GradientBoostingClassifier() F1 score is 0.420 (0.0121)\n",
      "========\n"
     ]
    }
   ],
   "source": [
    "classifiers = [\n",
    "    LogisticRegression(solver='lbfgs', max_iter=1000),\n",
    "    DecisionTreeClassifier(),\n",
    "    RandomForestClassifier(),\n",
    "    GradientBoostingClassifier(),\n",
    "    ]\n",
    "\n",
    "for classifier in classifiers:\n",
    "    %time\n",
    "    scores = cross_val_score(classifier, X_train, y, cv=5, scoring='f1')\n",
    "    print(classifier, 'F1 score is %.3f (%.3g)' % (np.mean(scores), np.std(scores)))\n",
    "    print('========')"
   ]
  },
  {
   "cell_type": "markdown",
   "id": "ec623a4d",
   "metadata": {},
   "source": [
    "GradientBoosting performed better with high F1 score, i.e., 0.419, and shortest time 2.62s."
   ]
  },
  {
   "cell_type": "markdown",
   "id": "a274b295",
   "metadata": {},
   "source": [
    "### 5.2 SMOTE sampling and modelling"
   ]
  },
  {
   "cell_type": "code",
   "execution_count": 65,
   "id": "92af6ad8",
   "metadata": {
    "scrolled": true
   },
   "outputs": [
    {
     "data": {
      "text/plain": [
       "0    18000\n",
       "1     2000\n",
       "Name: Def_ind, dtype: int64"
      ]
     },
     "execution_count": 65,
     "metadata": {},
     "output_type": "execute_result"
    }
   ],
   "source": [
    "y.value_counts()"
   ]
  },
  {
   "cell_type": "code",
   "execution_count": 66,
   "id": "2a84f3fb",
   "metadata": {},
   "outputs": [
    {
     "data": {
      "text/plain": [
       "0    18000\n",
       "1    18000\n",
       "Name: Def_ind, dtype: int64"
      ]
     },
     "execution_count": 66,
     "metadata": {},
     "output_type": "execute_result"
    }
   ],
   "source": [
    "smote = SMOTE(random_state=12)\n",
    "X_train_sm, y_sm = smote.fit_sample(X_train, y)\n",
    "y_sm.value_counts()"
   ]
  },
  {
   "cell_type": "code",
   "execution_count": 67,
   "id": "48ab75e5",
   "metadata": {},
   "outputs": [
    {
     "name": "stdout",
     "output_type": "stream",
     "text": [
      "CPU times: user 3 µs, sys: 6 µs, total: 9 µs\n",
      "Wall time: 1.91 µs\n",
      "LogisticRegression(max_iter=1000) F1 score is 0.716 (0.00202)\n",
      "========\n",
      "CPU times: user 7 µs, sys: 30 µs, total: 37 µs\n",
      "Wall time: 8.82 µs\n",
      "DecisionTreeClassifier() F1 score is 0.854 (0.0162)\n",
      "========\n",
      "CPU times: user 1e+03 ns, sys: 1e+03 ns, total: 2 µs\n",
      "Wall time: 2.15 µs\n",
      "RandomForestClassifier() F1 score is 0.938 (0.0135)\n",
      "========\n",
      "CPU times: user 1e+03 ns, sys: 0 ns, total: 1e+03 ns\n",
      "Wall time: 2.15 µs\n",
      "GradientBoostingClassifier() F1 score is 0.838 (0.0344)\n",
      "========\n"
     ]
    }
   ],
   "source": [
    "classifiers = [\n",
    "    LogisticRegression(solver='lbfgs', max_iter=1000),\n",
    "    DecisionTreeClassifier(),\n",
    "    RandomForestClassifier(),\n",
    "    GradientBoostingClassifier(),\n",
    "    ]\n",
    "\n",
    "for classifier in classifiers:\n",
    "    %time\n",
    "    scores = cross_val_score(classifier, X_train_sm, y_sm, cv=5, scoring='f1')\n",
    "    print(classifier, 'F1 score is %.3f (%.3g)' % (np.mean(scores), np.std(scores)))\n",
    "    print('========')"
   ]
  },
  {
   "cell_type": "markdown",
   "id": "a198b2d1",
   "metadata": {},
   "source": [
    "After SMOTE, RandomForestClassifier performed the best with high F1 score, i.e., 0.938, and shortest time 2.15s."
   ]
  },
  {
   "cell_type": "markdown",
   "id": "7ae26171",
   "metadata": {},
   "source": [
    "### 5.3 Parameter tuning by GridSearchCV"
   ]
  },
  {
   "cell_type": "markdown",
   "id": "6e95b9e1",
   "metadata": {},
   "source": [
    "#### 5.3.1 UDF: Helper function for printing out grid search and test_data prediction results"
   ]
  },
  {
   "cell_type": "code",
   "execution_count": 68,
   "id": "34666fd4",
   "metadata": {},
   "outputs": [],
   "source": [
    "# Helper function for printing out grid search results\n",
    "def grid_search_wrapper(model, parameters, refit_score='f1_score'):\n",
    "    \"\"\"\n",
    "    fits a GridSearchCV classifier using refit_score for optimization(refit on the best model according to refit_score)\n",
    "    prints classifier performance metrics\n",
    "    \"\"\"\n",
    "\n",
    "    grid_search = GridSearchCV(model, parameters, refit=refit_score,\n",
    "                           cv=4, return_train_score=True)\n",
    "    grid_search.fit(X_train_sm, y_sm)\n",
    "\n",
    "    print('Best params for {}'.format(refit_score))\n",
    "    print(grid_search.best_params_)\n",
    "\n",
    "    # make the predictions\n",
    "    y_pred = grid_search.predict(X_test)\n",
    "    y_prob = grid_search.predict_proba(X_test)[:, 1]\n",
    "    \n",
    "    # confusion matrix on the test data.\n",
    "    print('\\nConfusion matrix optimized for {} on the test data:'.format(refit_score))\n",
    "    cm = confusion_matrix(y_test, y_pred)\n",
    "    cmDF = pd.DataFrame(cm, columns=['pred_0', 'pred_1'], index=['true_0', 'true_1'])\n",
    "    print(cmDF)\n",
    "    \n",
    "    # scores\n",
    "    print(\"roc_auc_score is: \", roc_auc_score(y_test, y_prob))\n",
    "    print(\"f1_score is: \", f1_score(y_test, y_pred))\n",
    "    print(\"Accuracy: \", accuracy_score(y_test, y_pred))\n",
    "    print(\"recall = \", recall_score(y_test, y_pred))\n",
    "    print(\"precision = \", precision_score(y_test, y_pred))\n",
    "\n",
    "    return grid_search"
   ]
  },
  {
   "cell_type": "markdown",
   "id": "17ebf095",
   "metadata": {},
   "source": [
    "#### 5.3.2 LogisticRegression optimization "
   ]
  },
  {
   "cell_type": "code",
   "execution_count": 69,
   "id": "eb1112e2",
   "metadata": {
    "scrolled": false
   },
   "outputs": [
    {
     "name": "stdout",
     "output_type": "stream",
     "text": [
      "Best params for f1_score\n",
      "{'C': 1, 'penalty': 'l2'}\n",
      "\n",
      "Confusion matrix optimized for f1_score on the test data:\n",
      "        pred_0  pred_1\n",
      "true_0    3098    1402\n",
      "true_1     126     374\n",
      "roc_auc_score is:  0.7902582222222223\n",
      "f1_score is:  0.328646748681898\n",
      "Accuracy:  0.6944\n",
      "recall =  0.748\n",
      "precision =  0.21058558558558557\n"
     ]
    }
   ],
   "source": [
    "parameters = {'penalty':('l1', 'l2'), 'C':[0.001, 0.01, 0.1, 1, 10, 100, 1000] }\n",
    "LR = LogisticRegression(random_state=0, max_iter=1000)\n",
    "GRID_LR = grid_search_wrapper(LR, parameters, refit_score='f1_score')"
   ]
  },
  {
   "cell_type": "code",
   "execution_count": 116,
   "id": "eb31751c",
   "metadata": {},
   "outputs": [],
   "source": [
    "best_LR_model_f1 = GRID_LR.best_estimator_"
   ]
  },
  {
   "cell_type": "code",
   "execution_count": 122,
   "id": "df411aae",
   "metadata": {},
   "outputs": [],
   "source": [
    "# predict class labels for the test set\n",
    "predictedBest_f1 = best_LR_model_f1.predict(X_test)\n",
    "\n",
    "# generate class probabilities\n",
    "probsBest_f1 = best_LR_model_f1.predict_proba(X_test)"
   ]
  },
  {
   "cell_type": "code",
   "execution_count": 156,
   "id": "cf5fc1ef",
   "metadata": {
    "scrolled": true
   },
   "outputs": [
    {
     "data": {
      "text/plain": [
       "24"
      ]
     },
     "execution_count": 156,
     "metadata": {},
     "output_type": "execute_result"
    }
   ],
   "source": [
    "coef = best_LR_model_f1.coef_.flatten()\n",
    "len(coef)"
   ]
  },
  {
   "cell_type": "code",
   "execution_count": 153,
   "id": "7c2669fd",
   "metadata": {},
   "outputs": [],
   "source": [
    "from scipy.stats import norm\n",
    "def logit_pvalue(model, x):\n",
    "    \"\"\" Calculate z-scores for scikit-learn LogisticRegression.\n",
    "    parameters:\n",
    "        model: fitted sklearn.linear_model.LogisticRegression with intercept and large C\n",
    "        x:     matrix on which the model was fit\n",
    "    This function uses asymtptics for maximum likelihood estimates.\n",
    "    \"\"\"\n",
    "    p = model.predict_proba(x)\n",
    "    n = len(p)\n",
    "    m = len(model.coef_[0]) + 1\n",
    "    coefs = np.concatenate([model.intercept_, model.coef_[0]])\n",
    "    x_full = np.matrix(np.insert(np.array(x), 0, 1, axis = 1))\n",
    "    ans = np.zeros((m, m))\n",
    "    for i in range(n):\n",
    "        ans = ans + np.dot(np.transpose(x_full[i, :]), x_full[i, :]) * p[i,1] * p[i, 0]\n",
    "    vcov = np.linalg.inv(np.matrix(ans))\n",
    "    se = np.sqrt(np.diag(vcov))\n",
    "    t =  coefs/se  \n",
    "    p = (1 - norm.cdf(abs(t))) * 2\n",
    "    return p"
   ]
  },
  {
   "cell_type": "code",
   "execution_count": 157,
   "id": "e745cfb5",
   "metadata": {},
   "outputs": [
    {
     "data": {
      "text/plain": [
       "25"
      ]
     },
     "execution_count": 157,
     "metadata": {},
     "output_type": "execute_result"
    }
   ],
   "source": [
    "p_value = logit_pvalue(best_LR_model_f1, X_test)"
   ]
  },
  {
   "cell_type": "code",
   "execution_count": 174,
   "id": "9591c017",
   "metadata": {},
   "outputs": [
    {
     "data": {
      "text/html": [
       "<div>\n",
       "<style scoped>\n",
       "    .dataframe tbody tr th:only-of-type {\n",
       "        vertical-align: middle;\n",
       "    }\n",
       "\n",
       "    .dataframe tbody tr th {\n",
       "        vertical-align: top;\n",
       "    }\n",
       "\n",
       "    .dataframe thead th {\n",
       "        text-align: right;\n",
       "    }\n",
       "</style>\n",
       "<table border=\"1\" class=\"dataframe\">\n",
       "  <thead>\n",
       "    <tr style=\"text-align: right;\">\n",
       "      <th></th>\n",
       "      <th>coefficient</th>\n",
       "      <th>p_value</th>\n",
       "    </tr>\n",
       "  </thead>\n",
       "  <tbody>\n",
       "    <tr>\n",
       "      <th>avg_bal_cards</th>\n",
       "      <td>-2.710579</td>\n",
       "      <td>3.086420e-14</td>\n",
       "    </tr>\n",
       "    <tr>\n",
       "      <th>credit_age</th>\n",
       "      <td>-3.447779</td>\n",
       "      <td>5.256681e-04</td>\n",
       "    </tr>\n",
       "    <tr>\n",
       "      <th>num_acc_30d_past_due_12_months</th>\n",
       "      <td>4.447269</td>\n",
       "      <td>2.220446e-16</td>\n",
       "    </tr>\n",
       "    <tr>\n",
       "      <th>num_inq_12_month</th>\n",
       "      <td>3.068154</td>\n",
       "      <td>2.222760e-09</td>\n",
       "    </tr>\n",
       "    <tr>\n",
       "      <th>num_card_inq_24_month</th>\n",
       "      <td>-1.088979</td>\n",
       "      <td>3.537919e-02</td>\n",
       "    </tr>\n",
       "    <tr>\n",
       "      <th>num_card_12_month</th>\n",
       "      <td>0.438032</td>\n",
       "      <td>3.174140e-02</td>\n",
       "    </tr>\n",
       "    <tr>\n",
       "      <th>uti_open_card</th>\n",
       "      <td>5.162149</td>\n",
       "      <td>0.000000e+00</td>\n",
       "    </tr>\n",
       "    <tr>\n",
       "      <th>pct_over_50_uti</th>\n",
       "      <td>1.133813</td>\n",
       "      <td>5.405581e-03</td>\n",
       "    </tr>\n",
       "  </tbody>\n",
       "</table>\n",
       "</div>"
      ],
      "text/plain": [
       "                                coefficient       p_value\n",
       "avg_bal_cards                     -2.710579  3.086420e-14\n",
       "credit_age                        -3.447779  5.256681e-04\n",
       "num_acc_30d_past_due_12_months     4.447269  2.220446e-16\n",
       "num_inq_12_month                   3.068154  2.222760e-09\n",
       "num_card_inq_24_month             -1.088979  3.537919e-02\n",
       "num_card_12_month                  0.438032  3.174140e-02\n",
       "uti_open_card                      5.162149  0.000000e+00\n",
       "pct_over_50_uti                    1.133813  5.405581e-03"
      ]
     },
     "execution_count": 174,
     "metadata": {},
     "output_type": "execute_result"
    }
   ],
   "source": [
    "lr_importance = pd.DataFrame({'coefficient': coef, 'p_value': p_value[1:]})\n",
    "lr_importance.set_index(X_train.columns, inplace=True)\n",
    "lr_feature = lr_importance[lr_importance['p_value']<0.05]\n",
    "lr_feature"
   ]
  },
  {
   "cell_type": "code",
   "execution_count": 284,
   "id": "a44f750f",
   "metadata": {},
   "outputs": [
    {
     "data": {
      "image/png": "[encoded data removed]",
      "text/plain": [
       "<Figure size 576x360 with 1 Axes>"
      ]
     },
     "metadata": {
      "needs_background": "light"
     },
     "output_type": "display_data"
    }
   ],
   "source": [
    "f, axss = plt.subplots(1, 1, figsize = [8, 5])\n",
    "lr_feature['p_value'].plot.barh(color='orange')\n",
    "plt.xlabel('p_value', fontsize=18)\n",
    "plt.tick_params(axis='both', labelsize=15)\n",
    "plt.show()"
   ]
  },
  {
   "cell_type": "markdown",
   "id": "5e3ae508",
   "metadata": {},
   "source": [
    "#### 5.3.3 RandomForestClassifier optimization"
   ]
  },
  {
   "cell_type": "code",
   "execution_count": 161,
   "id": "9b2df59a",
   "metadata": {},
   "outputs": [
    {
     "name": "stdout",
     "output_type": "stream",
     "text": [
      "Best params for f1_score\n",
      "{'max_depth': 12, 'n_estimators': 500}\n",
      "\n",
      "Confusion matrix optimized for f1_score on the test data:\n",
      "        pred_0  pred_1\n",
      "true_0    3825     675\n",
      "true_1     172     328\n",
      "roc_auc_score is:  0.8448524444444445\n",
      "f1_score is:  0.4364604125083167\n",
      "Accuracy:  0.8306\n",
      "recall =  0.656\n",
      "precision =  0.3270189431704885\n"
     ]
    }
   ],
   "source": [
    "parameters = {'n_estimators':[10,50,100,500], \n",
    "              'max_depth':[1,3,6,9,12]}\n",
    "RF = RandomForestClassifier(random_state=0)\n",
    "GRID_RF = grid_search_wrapper(RF, parameters, refit_score='f1_score')                                                                                "
   ]
  },
  {
   "cell_type": "code",
   "execution_count": 71,
   "id": "ec078447",
   "metadata": {},
   "outputs": [],
   "source": [
    "best_RF_model_f1 = GRID_RF.best_estimator_"
   ]
  },
  {
   "cell_type": "code",
   "execution_count": 96,
   "id": "4f4c6722",
   "metadata": {},
   "outputs": [],
   "source": [
    "# predict class labels for the test set\n",
    "predictedBest_f1 = best_RF_model_f1.predict(X_test)\n",
    "\n",
    "# generate class probabilities\n",
    "probsBest_f1 = best_RF_model_f1.predict_proba(X_test)"
   ]
  },
  {
   "cell_type": "code",
   "execution_count": 162,
   "id": "9c7f5403",
   "metadata": {},
   "outputs": [
    {
     "data": {
      "text/html": [
       "<div>\n",
       "<style scoped>\n",
       "    .dataframe tbody tr th:only-of-type {\n",
       "        vertical-align: middle;\n",
       "    }\n",
       "\n",
       "    .dataframe tbody tr th {\n",
       "        vertical-align: top;\n",
       "    }\n",
       "\n",
       "    .dataframe thead th {\n",
       "        text-align: right;\n",
       "    }\n",
       "</style>\n",
       "<table border=\"1\" class=\"dataframe\">\n",
       "  <thead>\n",
       "    <tr style=\"text-align: right;\">\n",
       "      <th></th>\n",
       "      <th>importance</th>\n",
       "    </tr>\n",
       "  </thead>\n",
       "  <tbody>\n",
       "    <tr>\n",
       "      <th>avg_bal_cards</th>\n",
       "      <td>0.159555</td>\n",
       "    </tr>\n",
       "    <tr>\n",
       "      <th>uti_open_card</th>\n",
       "      <td>0.109185</td>\n",
       "    </tr>\n",
       "    <tr>\n",
       "      <th>num_acc_30d_past_due_12_months</th>\n",
       "      <td>0.098669</td>\n",
       "    </tr>\n",
       "    <tr>\n",
       "      <th>pct_card_over_50_uti</th>\n",
       "      <td>0.075317</td>\n",
       "    </tr>\n",
       "    <tr>\n",
       "      <th>num_inq_12_month</th>\n",
       "      <td>0.070521</td>\n",
       "    </tr>\n",
       "    <tr>\n",
       "      <th>num_card_inq_24_month</th>\n",
       "      <td>0.066593</td>\n",
       "    </tr>\n",
       "    <tr>\n",
       "      <th>tot_amount_currently_past_due</th>\n",
       "      <td>0.058281</td>\n",
       "    </tr>\n",
       "    <tr>\n",
       "      <th>pct_over_50_uti</th>\n",
       "      <td>0.056941</td>\n",
       "    </tr>\n",
       "    <tr>\n",
       "      <th>uti_max_credit_line</th>\n",
       "      <td>0.048190</td>\n",
       "    </tr>\n",
       "    <tr>\n",
       "      <th>tot_balance</th>\n",
       "      <td>0.045499</td>\n",
       "    </tr>\n",
       "    <tr>\n",
       "      <th>credit_age</th>\n",
       "      <td>0.040321</td>\n",
       "    </tr>\n",
       "    <tr>\n",
       "      <th>credit_card_age</th>\n",
       "      <td>0.034787</td>\n",
       "    </tr>\n",
       "    <tr>\n",
       "      <th>credit_age_good_account</th>\n",
       "      <td>0.032108</td>\n",
       "    </tr>\n",
       "    <tr>\n",
       "      <th>rep_income</th>\n",
       "      <td>0.028901</td>\n",
       "    </tr>\n",
       "    <tr>\n",
       "      <th>num_mortgage_currently_past_due</th>\n",
       "      <td>0.023238</td>\n",
       "    </tr>\n",
       "    <tr>\n",
       "      <th>num_acc_30d_past_due_6_months</th>\n",
       "      <td>0.018090</td>\n",
       "    </tr>\n",
       "    <tr>\n",
       "      <th>num_card_12_month</th>\n",
       "      <td>0.008482</td>\n",
       "    </tr>\n",
       "    <tr>\n",
       "      <th>ind_XYZ_0</th>\n",
       "      <td>0.004726</td>\n",
       "    </tr>\n",
       "    <tr>\n",
       "      <th>ind_XYZ_1</th>\n",
       "      <td>0.004678</td>\n",
       "    </tr>\n",
       "    <tr>\n",
       "      <th>rep_education_college</th>\n",
       "      <td>0.004447</td>\n",
       "    </tr>\n",
       "    <tr>\n",
       "      <th>rep_education_high_school</th>\n",
       "      <td>0.004071</td>\n",
       "    </tr>\n",
       "    <tr>\n",
       "      <th>num_auto_ 36_month</th>\n",
       "      <td>0.003746</td>\n",
       "    </tr>\n",
       "    <tr>\n",
       "      <th>rep_education_graduate</th>\n",
       "      <td>0.003343</td>\n",
       "    </tr>\n",
       "    <tr>\n",
       "      <th>rep_education_other</th>\n",
       "      <td>0.000311</td>\n",
       "    </tr>\n",
       "  </tbody>\n",
       "</table>\n",
       "</div>"
      ],
      "text/plain": [
       "                                 importance\n",
       "avg_bal_cards                      0.159555\n",
       "uti_open_card                      0.109185\n",
       "num_acc_30d_past_due_12_months     0.098669\n",
       "pct_card_over_50_uti               0.075317\n",
       "num_inq_12_month                   0.070521\n",
       "num_card_inq_24_month              0.066593\n",
       "tot_amount_currently_past_due      0.058281\n",
       "pct_over_50_uti                    0.056941\n",
       "uti_max_credit_line                0.048190\n",
       "tot_balance                        0.045499\n",
       "credit_age                         0.040321\n",
       "credit_card_age                    0.034787\n",
       "credit_age_good_account            0.032108\n",
       "rep_income                         0.028901\n",
       "num_mortgage_currently_past_due    0.023238\n",
       "num_acc_30d_past_due_6_months      0.018090\n",
       "num_card_12_month                  0.008482\n",
       "ind_XYZ_0                          0.004726\n",
       "ind_XYZ_1                          0.004678\n",
       "rep_education_college              0.004447\n",
       "rep_education_high_school          0.004071\n",
       "num_auto_ 36_month                 0.003746\n",
       "rep_education_graduate             0.003343\n",
       "rep_education_other                0.000311"
      ]
     },
     "execution_count": 162,
     "metadata": {},
     "output_type": "execute_result"
    }
   ],
   "source": [
    "# feature importance\n",
    "importances = best_RF_model_f1.feature_importances_\n",
    "rf_importance = pd.DataFrame(importances, index = X_train.columns, columns=['importance']).sort_values('importance', ascending=False)\n",
    "rf_importance"
   ]
  },
  {
   "cell_type": "code",
   "execution_count": 114,
   "id": "e2e3249d",
   "metadata": {},
   "outputs": [
    {
     "data": {
      "image/png": "[encoded data removed]",
      "text/plain": [
       "<Figure size 864x648 with 1 Axes>"
      ]
     },
     "metadata": {
      "needs_background": "light"
     },
     "output_type": "display_data"
    }
   ],
   "source": [
    "f, axss = plt.subplots(1, 1, figsize = [12, 9])\n",
    "indices = np.argsort(importances)\n",
    "plt.barh(range(len(indices)), importances[indices], color='orange')\n",
    "plt.yticks(range(len(indices)), [X_train.columns[i] for i in indices])\n",
    "plt.xlabel('Relative Importance', fontsize=20)\n",
    "plt.tick_params(axis='both', labelsize=17)\n",
    "plt.show()"
   ]
  },
  {
   "cell_type": "markdown",
   "id": "0bf56c66",
   "metadata": {},
   "source": [
    "#### 5.3.4 GradientBoostingClassifier "
   ]
  },
  {
   "cell_type": "code",
   "execution_count": null,
   "id": "a386d18b",
   "metadata": {},
   "outputs": [],
   "source": [
    "# parameters = {\n",
    "#     'n_estimators': [50, 100],\n",
    "#     'max_depth': [4, 6],\n",
    "#     'min_samples_split': [2, 4, 6],\n",
    "#     'learning_rate': [0.005, 0.01]}\n",
    "# GB = GradientBoostingClassifier(random_state=0)\n",
    "# GRID_GB = grid_search_wrapper(GB, parameters, refit_score='f1_score')                                                  "
   ]
  },
  {
   "cell_type": "markdown",
   "id": "d539df32",
   "metadata": {},
   "source": [
    "## 6. Fraud Characteristics"
   ]
  },
  {
   "cell_type": "code",
   "execution_count": 74,
   "id": "b23a1ddc",
   "metadata": {},
   "outputs": [
    {
     "data": {
      "text/html": [
       "<div>\n",
       "<style scoped>\n",
       "    .dataframe tbody tr th:only-of-type {\n",
       "        vertical-align: middle;\n",
       "    }\n",
       "\n",
       "    .dataframe tbody tr th {\n",
       "        vertical-align: top;\n",
       "    }\n",
       "\n",
       "    .dataframe thead th {\n",
       "        text-align: right;\n",
       "    }\n",
       "</style>\n",
       "<table border=\"1\" class=\"dataframe\">\n",
       "  <thead>\n",
       "    <tr style=\"text-align: right;\">\n",
       "      <th></th>\n",
       "      <th>avg_bal_cards</th>\n",
       "    </tr>\n",
       "    <tr>\n",
       "      <th>Def_ind</th>\n",
       "      <th></th>\n",
       "    </tr>\n",
       "  </thead>\n",
       "  <tbody>\n",
       "    <tr>\n",
       "      <th>0</th>\n",
       "      <td>12346.130574</td>\n",
       "    </tr>\n",
       "    <tr>\n",
       "      <th>1</th>\n",
       "      <td>11192.178133</td>\n",
       "    </tr>\n",
       "  </tbody>\n",
       "</table>\n",
       "</div>"
      ],
      "text/plain": [
       "         avg_bal_cards\n",
       "Def_ind               \n",
       "0         12346.130574\n",
       "1         11192.178133"
      ]
     },
     "execution_count": 74,
     "metadata": {},
     "output_type": "execute_result"
    }
   ],
   "source": [
    "# avg_bal_cards: mean\n",
    "train_data.groupby(['Def_ind'])[['avg_bal_cards']].mean()"
   ]
  },
  {
   "cell_type": "code",
   "execution_count": 75,
   "id": "2a9ab82e",
   "metadata": {},
   "outputs": [
    {
     "data": {
      "text/html": [
       "<div>\n",
       "<style scoped>\n",
       "    .dataframe tbody tr th:only-of-type {\n",
       "        vertical-align: middle;\n",
       "    }\n",
       "\n",
       "    .dataframe tbody tr th {\n",
       "        vertical-align: top;\n",
       "    }\n",
       "\n",
       "    .dataframe thead th {\n",
       "        text-align: right;\n",
       "    }\n",
       "</style>\n",
       "<table border=\"1\" class=\"dataframe\">\n",
       "  <thead>\n",
       "    <tr style=\"text-align: right;\">\n",
       "      <th></th>\n",
       "      <th>avg_bal_cards</th>\n",
       "    </tr>\n",
       "    <tr>\n",
       "      <th>Def_ind</th>\n",
       "      <th></th>\n",
       "    </tr>\n",
       "  </thead>\n",
       "  <tbody>\n",
       "    <tr>\n",
       "      <th>0</th>\n",
       "      <td>12342.906155</td>\n",
       "    </tr>\n",
       "    <tr>\n",
       "      <th>1</th>\n",
       "      <td>10555.715845</td>\n",
       "    </tr>\n",
       "  </tbody>\n",
       "</table>\n",
       "</div>"
      ],
      "text/plain": [
       "         avg_bal_cards\n",
       "Def_ind               \n",
       "0         12342.906155\n",
       "1         10555.715845"
      ]
     },
     "execution_count": 75,
     "metadata": {},
     "output_type": "execute_result"
    }
   ],
   "source": [
    "# avg_bal_cards: median\n",
    "train_data.groupby(['Def_ind'])[['avg_bal_cards']].median()"
   ]
  },
  {
   "cell_type": "code",
   "execution_count": 88,
   "id": "1cd66241",
   "metadata": {},
   "outputs": [
    {
     "data": {
      "text/html": [
       "<div>\n",
       "<style scoped>\n",
       "    .dataframe tbody tr th:only-of-type {\n",
       "        vertical-align: middle;\n",
       "    }\n",
       "\n",
       "    .dataframe tbody tr th {\n",
       "        vertical-align: top;\n",
       "    }\n",
       "\n",
       "    .dataframe thead th {\n",
       "        text-align: right;\n",
       "    }\n",
       "</style>\n",
       "<table border=\"1\" class=\"dataframe\">\n",
       "  <thead>\n",
       "    <tr style=\"text-align: right;\">\n",
       "      <th></th>\n",
       "      <th>uti_open_card</th>\n",
       "    </tr>\n",
       "    <tr>\n",
       "      <th>Def_ind</th>\n",
       "      <th></th>\n",
       "    </tr>\n",
       "  </thead>\n",
       "  <tbody>\n",
       "    <tr>\n",
       "      <th>0</th>\n",
       "      <td>0.481886</td>\n",
       "    </tr>\n",
       "    <tr>\n",
       "      <th>1</th>\n",
       "      <td>0.571702</td>\n",
       "    </tr>\n",
       "  </tbody>\n",
       "</table>\n",
       "</div>"
      ],
      "text/plain": [
       "         uti_open_card\n",
       "Def_ind               \n",
       "0             0.481886\n",
       "1             0.571702"
      ]
     },
     "execution_count": 88,
     "metadata": {},
     "output_type": "execute_result"
    }
   ],
   "source": [
    "# uti_open_card: mean\n",
    "train_data.groupby(['Def_ind'])[['uti_open_card']].mean()"
   ]
  },
  {
   "cell_type": "code",
   "execution_count": 91,
   "id": "b55a5025",
   "metadata": {},
   "outputs": [
    {
     "data": {
      "text/html": [
       "<div>\n",
       "<style scoped>\n",
       "    .dataframe tbody tr th:only-of-type {\n",
       "        vertical-align: middle;\n",
       "    }\n",
       "\n",
       "    .dataframe tbody tr th {\n",
       "        vertical-align: top;\n",
       "    }\n",
       "\n",
       "    .dataframe thead th {\n",
       "        text-align: right;\n",
       "    }\n",
       "</style>\n",
       "<table border=\"1\" class=\"dataframe\">\n",
       "  <thead>\n",
       "    <tr style=\"text-align: right;\">\n",
       "      <th></th>\n",
       "      <th>uti_open_card</th>\n",
       "    </tr>\n",
       "    <tr>\n",
       "      <th>Def_ind</th>\n",
       "      <th></th>\n",
       "    </tr>\n",
       "  </thead>\n",
       "  <tbody>\n",
       "    <tr>\n",
       "      <th>0</th>\n",
       "      <td>0.482628</td>\n",
       "    </tr>\n",
       "    <tr>\n",
       "      <th>1</th>\n",
       "      <td>0.568269</td>\n",
       "    </tr>\n",
       "  </tbody>\n",
       "</table>\n",
       "</div>"
      ],
      "text/plain": [
       "         uti_open_card\n",
       "Def_ind               \n",
       "0             0.482628\n",
       "1             0.568269"
      ]
     },
     "execution_count": 91,
     "metadata": {},
     "output_type": "execute_result"
    }
   ],
   "source": [
    "# uti_open_card: median\n",
    "train_data.groupby(['Def_ind'])[['uti_open_card']].median()"
   ]
  },
  {
   "cell_type": "code",
   "execution_count": 92,
   "id": "34f9c89d",
   "metadata": {
    "scrolled": true
   },
   "outputs": [
    {
     "data": {
      "text/html": [
       "<div>\n",
       "<style scoped>\n",
       "    .dataframe tbody tr th:only-of-type {\n",
       "        vertical-align: middle;\n",
       "    }\n",
       "\n",
       "    .dataframe tbody tr th {\n",
       "        vertical-align: top;\n",
       "    }\n",
       "\n",
       "    .dataframe thead th {\n",
       "        text-align: right;\n",
       "    }\n",
       "</style>\n",
       "<table border=\"1\" class=\"dataframe\">\n",
       "  <thead>\n",
       "    <tr style=\"text-align: right;\">\n",
       "      <th></th>\n",
       "      <th>num_acc_30d_past_due_12_months</th>\n",
       "    </tr>\n",
       "    <tr>\n",
       "      <th>Def_ind</th>\n",
       "      <th></th>\n",
       "    </tr>\n",
       "  </thead>\n",
       "  <tbody>\n",
       "    <tr>\n",
       "      <th>0</th>\n",
       "      <td>0.112611</td>\n",
       "    </tr>\n",
       "    <tr>\n",
       "      <th>1</th>\n",
       "      <td>0.552000</td>\n",
       "    </tr>\n",
       "  </tbody>\n",
       "</table>\n",
       "</div>"
      ],
      "text/plain": [
       "         num_acc_30d_past_due_12_months\n",
       "Def_ind                                \n",
       "0                              0.112611\n",
       "1                              0.552000"
      ]
     },
     "execution_count": 92,
     "metadata": {},
     "output_type": "execute_result"
    }
   ],
   "source": [
    "# num_acc_30d_past_due_12_months: mean\n",
    "train_data.groupby(['Def_ind'])[['num_acc_30d_past_due_12_months']].mean()"
   ]
  },
  {
   "cell_type": "markdown",
   "id": "ac4766a2",
   "metadata": {},
   "source": [
    "## 7. How to use the prediction"
   ]
  },
  {
   "cell_type": "code",
   "execution_count": 98,
   "id": "11f92a9f",
   "metadata": {},
   "outputs": [
    {
     "name": "stdout",
     "output_type": "stream",
     "text": [
      "[[   0  843]\n",
      " [   1 1003]\n",
      " [   2  864]\n",
      " [   3  735]\n",
      " [   4  552]\n",
      " [   5  400]\n",
      " [   6  278]\n",
      " [   7  202]\n",
      " [   8   93]\n",
      " [   9   30]]\n"
     ]
    }
   ],
   "source": [
    "t = (10 * probsBest_f1[:, 1]).astype(int)\n",
    "unique, counts = np.unique(t, return_counts=True)\n",
    "\n",
    "print(np.asarray((unique, counts)).T)"
   ]
  },
  {
   "cell_type": "markdown",
   "id": "9517475f",
   "metadata": {},
   "source": [
    "Application Rcommended:\n",
    "- green: 1 - 3 pass\n",
    "- grey: 4-7 need manual investigation\n",
    "- red: 8,9 decline"
   ]
  },
  {
   "cell_type": "code",
   "execution_count": null,
   "id": "c949230a",
   "metadata": {},
   "outputs": [],
   "source": []
  }
 ],
 "metadata": {
  "kernelspec": {
   "display_name": "Python 3 (ipykernel)",
   "language": "python",
   "name": "python3"
  },
  "language_info": {
   "codemirror_mode": {
    "name": "ipython",
    "version": 3
   },
   "file_extension": ".py",
   "mimetype": "text/x-python",
   "name": "python",
   "nbconvert_exporter": "python",
   "pygments_lexer": "ipython3",
   "version": "3.9.10"
  },
  "toc": {
   "base_numbering": 1,
   "nav_menu": {},
   "number_sections": false,
   "sideBar": true,
   "skip_h1_title": false,
   "title_cell": "Table of Contents",
   "title_sidebar": "Contents",
   "toc_cell": false,
   "toc_position": {
    "height": "calc(100% - 180px)",
    "left": "10px",
    "top": "150px",
    "width": "242.431px"
   },
   "toc_section_display": true,
   "toc_window_display": true
  }
 },
 "nbformat": 4,
 "nbformat_minor": 5
}
